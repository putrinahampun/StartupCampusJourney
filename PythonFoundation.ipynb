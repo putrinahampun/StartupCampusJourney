{
  "nbformat": 4,
  "nbformat_minor": 0,
  "metadata": {
    "colab": {
      "provenance": [],
      "authorship_tag": "ABX9TyN9RDQJuvBmVngf1bDH3rVC",
      "include_colab_link": true
    },
    "kernelspec": {
      "name": "python3",
      "display_name": "Python 3"
    },
    "language_info": {
      "name": "python"
    }
  },
  "cells": [
    {
      "cell_type": "markdown",
      "metadata": {
        "id": "view-in-github",
        "colab_type": "text"
      },
      "source": [
        "<a href=\"https://colab.research.google.com/github/putrinahampun/StartupCampusJourney/blob/main/PythonFoundation.ipynb\" target=\"_parent\"><img src=\"https://colab.research.google.com/assets/colab-badge.svg\" alt=\"Open In Colab\"/></a>"
      ]
    },
    {
      "cell_type": "code",
      "execution_count": 2,
      "metadata": {
        "colab": {
          "base_uri": "https://localhost:8080/"
        },
        "id": "dDyqgVYnQxjb",
        "outputId": "a1042641-f6ff-4ccb-bd8c-1a382a195c4f"
      },
      "outputs": [
        {
          "output_type": "stream",
          "name": "stdout",
          "text": [
            "Hello World!\n"
          ]
        }
      ],
      "source": [
        "print(\"Hello World!\")"
      ]
    },
    {
      "cell_type": "markdown",
      "source": [
        "### Library yang digunakan untuk analisa data, yaitu:\n",
        "\n",
        "1.   Numpy => untuk pengerjaan fungsi yang bersifat numerik\n",
        "2.   Pandas => untuk visualisasi data dalam bentuk tabel (tabular), untuk manipulasi data\n",
        "3.   Matplotlib dan Seaborn => visualisasi data dalam bentuk grafik dari hasil olahan data pada pandas.\n",
        "4.   Scikit-learn => melatih model machine learning dengan menggunakan data\n",
        "5.   Tensorflow => framework ML yang dikembangkan Google untuk melatih model ML dan banyak digunakan untuk Deep Learning / Image Recognition.\n",
        "6.   Keras => Library untuk aplikasi Neural Network.\n",
        "7.   PyTorch => algoritma ML yang digunakan untuk melatih model Neural Network.   \n",
        "\n"
      ],
      "metadata": {
        "id": "1WxRxAS4Q9s2"
      }
    },
    {
      "cell_type": "code",
      "source": [
        "nama = \"Startup Campus\"\n",
        "print(nama)"
      ],
      "metadata": {
        "colab": {
          "base_uri": "https://localhost:8080/"
        },
        "id": "sDJkKjU0Q3VR",
        "outputId": "4409d865-5e1d-45c7-90cc-b33e8fea5724"
      },
      "execution_count": 3,
      "outputs": [
        {
          "output_type": "stream",
          "name": "stdout",
          "text": [
            "Startup Campus\n"
          ]
        }
      ]
    },
    {
      "cell_type": "code",
      "source": [
        "print(\"startup\"); print(\"campus\")"
      ],
      "metadata": {
        "colab": {
          "base_uri": "https://localhost:8080/"
        },
        "id": "y59o-maCSI93",
        "outputId": "c3aee666-97f6-43ec-d9e8-56f83cf0add2"
      },
      "execution_count": 4,
      "outputs": [
        {
          "output_type": "stream",
          "name": "stdout",
          "text": [
            "startup\n",
            "campus\n"
          ]
        }
      ]
    },
    {
      "cell_type": "code",
      "source": [
        "nama = \"putri\"; age = 10 # nama dan age merupakan variabel yang menyimpan value"
      ],
      "metadata": {
        "id": "ki8fpedQSOQY"
      },
      "execution_count": 5,
      "outputs": []
    },
    {
      "cell_type": "code",
      "source": [
        "print(nama); print(age)"
      ],
      "metadata": {
        "colab": {
          "base_uri": "https://localhost:8080/"
        },
        "id": "jpijdbvpSUTc",
        "outputId": "25f7935f-29a9-432c-a2ee-40fffc2f8397"
      },
      "execution_count": 6,
      "outputs": [
        {
          "output_type": "stream",
          "name": "stdout",
          "text": [
            "putri\n",
            "10\n"
          ]
        }
      ]
    },
    {
      "cell_type": "markdown",
      "source": [
        "### Beberapa Tipe Data, yaitu:\n",
        "\n",
        "1.   List => menyimpan berbagai tipe data yang isinya bisa diubah-ubah\n",
        "2.   Tuple => menyimpan tipe data yang isinya tidak dapat diubah\n",
        "3.   Dictionary => menyimpan tipe data sebagai sebuah pasangan 'key' 'value', bersifat runut, bisa diubah, dan unik.\n",
        "4.   Set => tidak bisa diubah, namun bisa dipanggil dengan index.\n",
        "\n",
        "\n"
      ],
      "metadata": {
        "id": "ZehT_UEBUI0r"
      }
    },
    {
      "cell_type": "code",
      "source": [
        "# TIPE DATA\n",
        "x = 5 #integer\n",
        "x = 0.5 #float\n",
        "x = 3j #complex\n",
        "x = 'putri' #string\n",
        "x = ['satu','dua','tiga'] #list\n",
        "x = ('satu','dua','tiga') #tuple\n",
        "x = {'satu':1,'dua':2,'tiga':3} #dictionary\n",
        "x = True #boolean\n",
        "x = None #nonetype"
      ],
      "metadata": {
        "id": "9rvCqf07SWox"
      },
      "execution_count": 7,
      "outputs": []
    },
    {
      "cell_type": "code",
      "source": [
        "price = 100000\n",
        "satuan = 'rupiah'\n",
        "\n",
        "print(\"Harga Barang:\",price,satuan)"
      ],
      "metadata": {
        "colab": {
          "base_uri": "https://localhost:8080/"
        },
        "id": "CmitB86DTd-a",
        "outputId": "ec5fa5a6-3f1e-4556-b7e3-fd8cd9d76323"
      },
      "execution_count": 8,
      "outputs": [
        {
          "output_type": "stream",
          "name": "stdout",
          "text": [
            "Harga Barang: 100000 rupiah\n"
          ]
        }
      ]
    },
    {
      "cell_type": "markdown",
      "source": [
        "### Module dan Package Python\n",
        "\n",
        "1.   Module => kumpulan dari fungsi custom yang dibuat sendiri oleh programmer.\n",
        "2.   Package => mirip dengan module, namun package bersifat general-used. Cth: Numpy, Pandas.\n",
        "3.   Cara instalasi Package di python: !pip install <package_name> (untuk google colab).\n",
        "4.   Cara instalasi Package di IDE:\n",
        "pip install <package_name>\n",
        "\n"
      ],
      "metadata": {
        "id": "zHRYyEM8U8b6"
      }
    },
    {
      "cell_type": "markdown",
      "source": [
        "### Arithmetics Operators Python\n",
        "\n",
        "*   tambah (+)\n",
        "*   kurang (-)\n",
        "*   bagi (/)\n",
        "*   kali (*)\n",
        "*   sisa bagi (%)\n",
        "*   pangkat (**)\n",
        "*   pembulatan (//)\n"
      ],
      "metadata": {
        "id": "iXq0WdBzV5zk"
      }
    },
    {
      "cell_type": "code",
      "source": [
        "# KONDISI IF\n",
        "a = 5\n",
        "b = 100\n",
        "if b > a:\n",
        "  print(\"b lebih besar dari a \")"
      ],
      "metadata": {
        "colab": {
          "base_uri": "https://localhost:8080/"
        },
        "id": "cUZC-yOgUB7i",
        "outputId": "d7e40f73-fb64-4d18-e040-63f1bf4de658"
      },
      "execution_count": 9,
      "outputs": [
        {
          "output_type": "stream",
          "name": "stdout",
          "text": [
            "b lebih besar dari a \n"
          ]
        }
      ]
    },
    {
      "cell_type": "code",
      "source": [
        "# KONDISI IF ELIF\n",
        "a = 90\n",
        "b = 50\n",
        "if b > a:\n",
        "  print('b lebih besar dari a')\n",
        "elif a == b:\n",
        "  print(\"a dan b memiliki nilai yang sama\")\n",
        "else:\n",
        "  print(\"a lebih besar dari b\")"
      ],
      "metadata": {
        "colab": {
          "base_uri": "https://localhost:8080/"
        },
        "id": "UZNHIZDnWpGR",
        "outputId": "33adb816-2cb3-491a-aa73-faa700cfd778"
      },
      "execution_count": 10,
      "outputs": [
        {
          "output_type": "stream",
          "name": "stdout",
          "text": [
            "a lebih besar dari b\n"
          ]
        }
      ]
    },
    {
      "cell_type": "code",
      "source": [
        "# KONDISI NESTED IF\n",
        "a = 50\n",
        "b = 60\n",
        "if b > a:\n",
        "  print('b lebih besar dari a')\n",
        "  if b % 2 == 0:\n",
        "    print(\"b adalah bilangan genap\")\n",
        "elif a == b:\n",
        "  print(\"a dan b memiliki nilai yang sama\")\n",
        "else:\n",
        "  print(\"a lebih besar dari b\")"
      ],
      "metadata": {
        "colab": {
          "base_uri": "https://localhost:8080/"
        },
        "id": "N7xOJ2EkW5Cy",
        "outputId": "5e5b131d-cae4-4716-a456-45536d8f824f"
      },
      "execution_count": 11,
      "outputs": [
        {
          "output_type": "stream",
          "name": "stdout",
          "text": [
            "b lebih besar dari a\n",
            "b adalah bilangan genap\n"
          ]
        }
      ]
    },
    {
      "cell_type": "markdown",
      "source": [
        "### Pengulangan (LOOP) ada 2, yaitu:\n",
        "\n",
        "1.   while Loop => melakukan iterasi selama kondisi dinyatakan benar.\n",
        "2.   For Loop => define iteration\n",
        "\n"
      ],
      "metadata": {
        "id": "IPrykK2rXcN2"
      }
    },
    {
      "cell_type": "code",
      "source": [
        "# LOOP => PENGULANGAN\n",
        "\n",
        "# While Loop\n",
        "i = 1\n",
        "while i < 6:\n",
        "  print(i, end=\" \")\n",
        "  i += 1\n"
      ],
      "metadata": {
        "colab": {
          "base_uri": "https://localhost:8080/"
        },
        "id": "NRsJN7vxXSkm",
        "outputId": "8e00acf5-43af-4399-bfaa-6230fc52dab9"
      },
      "execution_count": 12,
      "outputs": [
        {
          "output_type": "stream",
          "name": "stdout",
          "text": [
            "1 2 3 4 5 "
          ]
        }
      ]
    },
    {
      "cell_type": "code",
      "source": [
        "# For Loop\n",
        "for x in \"banana\":\n",
        "  print(x)"
      ],
      "metadata": {
        "colab": {
          "base_uri": "https://localhost:8080/"
        },
        "id": "jtISYyU-X1Xj",
        "outputId": "b8cd45a2-5cda-406d-d4a4-214bbaf1d95e"
      },
      "execution_count": 13,
      "outputs": [
        {
          "output_type": "stream",
          "name": "stdout",
          "text": [
            "b\n",
            "a\n",
            "n\n",
            "a\n",
            "n\n",
            "a\n"
          ]
        }
      ]
    },
    {
      "cell_type": "code",
      "source": [
        "for x in range(1,6):\n",
        "  print(x)"
      ],
      "metadata": {
        "colab": {
          "base_uri": "https://localhost:8080/"
        },
        "id": "-QVkPtNCYTPu",
        "outputId": "96e1a9bc-0f41-4b3a-a220-023c6d11150d"
      },
      "execution_count": 14,
      "outputs": [
        {
          "output_type": "stream",
          "name": "stdout",
          "text": [
            "1\n",
            "2\n",
            "3\n",
            "4\n",
            "5\n"
          ]
        }
      ]
    },
    {
      "cell_type": "code",
      "source": [
        "for x in range(1,6,2):\n",
        "  print(x)"
      ],
      "metadata": {
        "colab": {
          "base_uri": "https://localhost:8080/"
        },
        "id": "WTOdkfLoYXP1",
        "outputId": "5fcadff3-ea29-4009-b068-f154f220fa43"
      },
      "execution_count": 15,
      "outputs": [
        {
          "output_type": "stream",
          "name": "stdout",
          "text": [
            "1\n",
            "3\n",
            "5\n"
          ]
        }
      ]
    },
    {
      "cell_type": "markdown",
      "source": [
        "### Fungsi pada Loop:\n",
        "\n",
        "1.   Break => memberhentikan proses loop\n",
        "2.   Continue => melewatkan satu putaran loop\n",
        "3.   Pass => mengisi fungsi loop yang kosong\n",
        "\n"
      ],
      "metadata": {
        "id": "u2b1KZLKYhYl"
      }
    },
    {
      "cell_type": "code",
      "source": [
        "# break\n",
        "for i in range(1,5):\n",
        "  if i == 3:\n",
        "    break\n",
        "  else:\n",
        "    print(i)"
      ],
      "metadata": {
        "colab": {
          "base_uri": "https://localhost:8080/"
        },
        "id": "5SxMv_6hYa6V",
        "outputId": "c6217126-98b9-40fa-8b46-f7ad6d89a61d"
      },
      "execution_count": 16,
      "outputs": [
        {
          "output_type": "stream",
          "name": "stdout",
          "text": [
            "1\n",
            "2\n"
          ]
        }
      ]
    },
    {
      "cell_type": "code",
      "source": [
        "# continue\n",
        "for i in range(1,5):\n",
        "  if i % 2 == 0:\n",
        "    continue\n",
        "  else:\n",
        "    print(i)"
      ],
      "metadata": {
        "colab": {
          "base_uri": "https://localhost:8080/"
        },
        "id": "K5JmStTcZJoc",
        "outputId": "eff5bb38-cdf6-4f32-ed0e-4bcca7ca0c34"
      },
      "execution_count": 17,
      "outputs": [
        {
          "output_type": "stream",
          "name": "stdout",
          "text": [
            "1\n",
            "3\n"
          ]
        }
      ]
    },
    {
      "cell_type": "code",
      "source": [
        "# pass\n",
        "for i in range(10):\n",
        "  pass"
      ],
      "metadata": {
        "id": "QAR7F2QcZT_8"
      },
      "execution_count": 18,
      "outputs": []
    },
    {
      "cell_type": "code",
      "source": [
        "# NESTED LOOP\n",
        "for x in \"banana\":\n",
        "  for y in range(6):\n",
        "    print(x, end=\" \")\n",
        "  print(\"\")\n",
        "print(\"end of code\")"
      ],
      "metadata": {
        "colab": {
          "base_uri": "https://localhost:8080/"
        },
        "id": "24vxo9QjZfq5",
        "outputId": "f0367e0e-1eec-4c3c-ed4e-516e958282e6"
      },
      "execution_count": 19,
      "outputs": [
        {
          "output_type": "stream",
          "name": "stdout",
          "text": [
            "b b b b b b \n",
            "a a a a a a \n",
            "n n n n n n \n",
            "a a a a a a \n",
            "n n n n n n \n",
            "a a a a a a \n",
            "end of code\n"
          ]
        }
      ]
    },
    {
      "cell_type": "code",
      "source": [
        "# FUNGSI\n",
        "def grade(point):\n",
        "  if point > 90:\n",
        "    status = 'You got A!'\n",
        "  elif point >=70 and point <=90:\n",
        "    status = \"You got B!\"\n",
        "  else:\n",
        "    status = \"You got C!\"\n",
        "  return status"
      ],
      "metadata": {
        "id": "dFiyRgbEZ7ga"
      },
      "execution_count": 20,
      "outputs": []
    },
    {
      "cell_type": "code",
      "source": [
        "grade(100)"
      ],
      "metadata": {
        "colab": {
          "base_uri": "https://localhost:8080/",
          "height": 35
        },
        "id": "knEY2q-qbY1X",
        "outputId": "85eca64f-b37f-4158-e885-9269a924753c"
      },
      "execution_count": 21,
      "outputs": [
        {
          "output_type": "execute_result",
          "data": {
            "text/plain": [
              "'You got A!'"
            ],
            "application/vnd.google.colaboratory.intrinsic+json": {
              "type": "string"
            }
          },
          "metadata": {},
          "execution_count": 21
        }
      ]
    },
    {
      "cell_type": "code",
      "source": [
        "grade(80)"
      ],
      "metadata": {
        "colab": {
          "base_uri": "https://localhost:8080/",
          "height": 35
        },
        "id": "P7kLUzfQbaos",
        "outputId": "ac223b30-9ac0-4c77-cce0-a1a0c7494df8"
      },
      "execution_count": 22,
      "outputs": [
        {
          "output_type": "execute_result",
          "data": {
            "text/plain": [
              "'You got B!'"
            ],
            "application/vnd.google.colaboratory.intrinsic+json": {
              "type": "string"
            }
          },
          "metadata": {},
          "execution_count": 22
        }
      ]
    },
    {
      "cell_type": "code",
      "source": [
        "grade(60)"
      ],
      "metadata": {
        "colab": {
          "base_uri": "https://localhost:8080/",
          "height": 35
        },
        "id": "wCBL1g5sbcZ7",
        "outputId": "3c155040-354f-491b-e813-665b5e9f0ccd"
      },
      "execution_count": 23,
      "outputs": [
        {
          "output_type": "execute_result",
          "data": {
            "text/plain": [
              "'You got C!'"
            ],
            "application/vnd.google.colaboratory.intrinsic+json": {
              "type": "string"
            }
          },
          "metadata": {},
          "execution_count": 23
        }
      ]
    },
    {
      "cell_type": "markdown",
      "source": [
        "### Jenis Input pada Function\n",
        "\n",
        "1.   Positional Arguments => perhatikan posisinya, general digunakan\n",
        "2.   Keyword Arguments => posisi tidak masalah, mudah mengenali inputnya\n",
        "3.   Default Arguments => gabungan positional dan keyword\n",
        "4.   Variable-Length Arguments => menggunakan operator *args dan **kwargs\n",
        "    * (*args) => input dianggap list\n",
        "    * (**kwargs) => seluruh input merupakan arguments, bisa beda jenis tipe data.\n",
        "    *  penggabungan *args,**kwargs,dan positional arguments\n",
        "\n"
      ],
      "metadata": {
        "id": "mmRmUwVEbjQ6"
      }
    },
    {
      "cell_type": "code",
      "source": [
        "#  positional arguments\n",
        "def penjumlahan(a,b):\n",
        "  print(\"Ini nilai b:\",b)\n",
        "  print(\"Ini nilai a:\",a)\n",
        "  c = a + b\n",
        "  return c\n",
        "\n",
        "penjumlahan(2,3)"
      ],
      "metadata": {
        "colab": {
          "base_uri": "https://localhost:8080/"
        },
        "id": "SrN9Y4Tubdt_",
        "outputId": "f8154295-2697-4fb1-a72e-44a30ebd0356"
      },
      "execution_count": 24,
      "outputs": [
        {
          "output_type": "stream",
          "name": "stdout",
          "text": [
            "Ini nilai b: 3\n",
            "Ini nilai a: 2\n"
          ]
        },
        {
          "output_type": "execute_result",
          "data": {
            "text/plain": [
              "5"
            ]
          },
          "metadata": {},
          "execution_count": 24
        }
      ]
    },
    {
      "cell_type": "code",
      "source": [
        "# keyword arguments\n",
        "def penjumlahan(a,b):\n",
        "  print(\"Ini nilai b:\",b)\n",
        "  print(\"Ini nilai a:\",a)\n",
        "  c = a + b\n",
        "  return c\n",
        "\n",
        "penjumlahan(b = 4, a = 6)"
      ],
      "metadata": {
        "colab": {
          "base_uri": "https://localhost:8080/"
        },
        "id": "eXLiRsiwcyd3",
        "outputId": "30861a56-7389-4d87-d62f-d660d840f61c"
      },
      "execution_count": 25,
      "outputs": [
        {
          "output_type": "stream",
          "name": "stdout",
          "text": [
            "Ini nilai b: 4\n",
            "Ini nilai a: 6\n"
          ]
        },
        {
          "output_type": "execute_result",
          "data": {
            "text/plain": [
              "10"
            ]
          },
          "metadata": {},
          "execution_count": 25
        }
      ]
    },
    {
      "cell_type": "code",
      "source": [
        "# default arguments\n",
        "def penjumlahan(a,b=10):\n",
        "  print(\"Ini nilai b:\",b)\n",
        "  print(\"Ini nilai a:\",a)\n",
        "  c = a + b\n",
        "  return c\n",
        "\n",
        "penjumlahan(a = 6)\n",
        "penjumlahan(9,b=21)"
      ],
      "metadata": {
        "colab": {
          "base_uri": "https://localhost:8080/"
        },
        "id": "oldKCkl0c7E7",
        "outputId": "f7c9ae98-a9cb-4a9e-c4fa-b8930f8f698a"
      },
      "execution_count": 26,
      "outputs": [
        {
          "output_type": "stream",
          "name": "stdout",
          "text": [
            "Ini nilai b: 10\n",
            "Ini nilai a: 6\n",
            "Ini nilai b: 21\n",
            "Ini nilai a: 9\n"
          ]
        },
        {
          "output_type": "execute_result",
          "data": {
            "text/plain": [
              "30"
            ]
          },
          "metadata": {},
          "execution_count": 26
        }
      ]
    },
    {
      "cell_type": "code",
      "source": [
        "#  *args arguments\n",
        "def penjumlahann(*args):\n",
        "  return print(sum(args))\n",
        "\n",
        "def pengurangan(*args):\n",
        "  start = args[0]\n",
        "  for x in args[1:]:\n",
        "    start -= x\n",
        "  return print(start)\n",
        "\n",
        "penjumlahann(10,20,30)\n",
        "pengurangan(100,20,30)"
      ],
      "metadata": {
        "colab": {
          "base_uri": "https://localhost:8080/"
        },
        "id": "8tpb6RFfdD3D",
        "outputId": "71757110-dd5d-4f2a-c962-ac3d40071127"
      },
      "execution_count": 27,
      "outputs": [
        {
          "output_type": "stream",
          "name": "stdout",
          "text": [
            "60\n",
            "50\n"
          ]
        }
      ]
    },
    {
      "cell_type": "code",
      "source": [
        "# **kwargs arguments\n",
        "def biodata(**kwargs):\n",
        "  for key,value in kwargs.items():\n",
        "    print(\"{} is {}\".format(key,value))\n",
        "\n",
        "biodata(nama =\"putri\", usia=20, pekerjaan='mahasiswa')"
      ],
      "metadata": {
        "colab": {
          "base_uri": "https://localhost:8080/"
        },
        "id": "wyw2iynYdyxW",
        "outputId": "3eb53e7e-5797-4062-e6dd-35c74c04a95b"
      },
      "execution_count": 28,
      "outputs": [
        {
          "output_type": "stream",
          "name": "stdout",
          "text": [
            "nama is putri\n",
            "usia is 20\n",
            "pekerjaan is mahasiswa\n"
          ]
        }
      ]
    },
    {
      "cell_type": "code",
      "source": [
        "# penggabungan *args, **kwargs, positional arguments\n",
        "def biodatta(nim,nama,*args,**kwargs):\n",
        "  print(\"nim : {}\".format(nim))\n",
        "  print(\"nama: {}\".format(nama))\n",
        "  print(\"jurusan: {}\".format(args[0]))\n",
        "  print(\"universitas: {}\".format(args[1]))\n",
        "\n",
        "  for x,y in kwargs.items():\n",
        "    print(\"{} : {}\".format(x,y))\n",
        "\n",
        "biodatta(201402061, \"Putri\", \"Teknologi Informasi\",\"Universitas Sumatera Utara\",\n",
        "         Hobi= \"Membaca\", Idola= \"Haechan\")"
      ],
      "metadata": {
        "colab": {
          "base_uri": "https://localhost:8080/"
        },
        "id": "qd4-Mf67ePDA",
        "outputId": "281a98d8-8e5d-4edb-e3ff-c318486e06d0"
      },
      "execution_count": 29,
      "outputs": [
        {
          "output_type": "stream",
          "name": "stdout",
          "text": [
            "nim : 201402061\n",
            "nama: Putri\n",
            "jurusan: Teknologi Informasi\n",
            "universitas: Universitas Sumatera Utara\n",
            "Hobi : Membaca\n",
            "Idola : Haechan\n"
          ]
        }
      ]
    },
    {
      "cell_type": "markdown",
      "source": [
        "### Tipe variabel ada 2, yaitu:\n",
        "\n",
        "1.   Variabel Lokal => berada didalam fungsi/module tertentu\n",
        "2.   Variabel Global => bisa diakses keseluruhan codes.\n",
        "\n"
      ],
      "metadata": {
        "id": "ii9Hx_pTf4i1"
      }
    },
    {
      "cell_type": "code",
      "source": [
        "# Global dan Lokal Variabel\n",
        "\n",
        "x = 10 #variabel global\n",
        "\n",
        "def penambahan():\n",
        "  x = 15 #varibael lokal\n",
        "  y = 20\n",
        "  print(\"nilai x:{}\".format(x))\n",
        "  print(\"nilai y:{}\".format(y))\n",
        "\n",
        "penambahan()\n",
        "print(x)"
      ],
      "metadata": {
        "colab": {
          "base_uri": "https://localhost:8080/"
        },
        "id": "f9THQqMCf19s",
        "outputId": "336acdfa-71a7-4b2d-e5c4-cc98bba1a8fa"
      },
      "execution_count": 30,
      "outputs": [
        {
          "output_type": "stream",
          "name": "stdout",
          "text": [
            "nilai x:15\n",
            "nilai y:20\n",
            "10\n"
          ]
        }
      ]
    },
    {
      "cell_type": "code",
      "source": [
        "# LIBRARY PADA PYTHON\n",
        "\n",
        "# memanggil library NUMPY\n",
        "import numpy as np\n",
        "\n",
        "# memanggil library pandas\n",
        "import pandas as pd\n"
      ],
      "metadata": {
        "id": "Z6ZoBUlRgbeI"
      },
      "execution_count": 31,
      "outputs": []
    },
    {
      "cell_type": "markdown",
      "source": [
        "### Pembahasan tentang Numpy:\n",
        "\n",
        "1.   Numpy (Numerical Python) => library yang digunakan dalam pembuatan array, dibuat Travis Oliphant, merupakan salah satu contoh proyek Open source.\n",
        "2.   Kelebihan:\n",
        "  * lebih cepat dari List\n",
        "  * menggunakan lebih sedikit memori\n",
        "  * bisa digunakan untuk membuat array n-dimensi\n",
        "  * bisa melalukan operasi matematika pada array n-dimensi.\n",
        "3.   Objek array pada numpy disebut ndarray (nth-dimmesion array).\n",
        "4.   Pembuatan ndarray menggunakan fungsi array().\n",
        "  * array 1 dimensi (1D array): mengolah angka\n",
        "  * array 2 dimensi (2D array): mengolah gambar\n",
        "  * array 3 dimensi (3D array): mengolah gambar RGB.\n",
        "5. numpy menciptakan sebuah array disebut dengan matriks.\n",
        "6. numpy berhubungan dengan operasi vektor (dot product, cross product, inverse).\n",
        "\n"
      ],
      "metadata": {
        "id": "x6EBPWzggwWp"
      }
    },
    {
      "cell_type": "code",
      "source": [
        "# 1D array\n",
        "import numpy as np\n",
        "arr = np.array([1,2,3,4,5])\n",
        "print(arr)\n",
        "print(type(arr))"
      ],
      "metadata": {
        "colab": {
          "base_uri": "https://localhost:8080/"
        },
        "id": "HsSmzkeYgmLQ",
        "outputId": "2709c1c3-eb28-486f-c7c3-d04bd5440720"
      },
      "execution_count": 32,
      "outputs": [
        {
          "output_type": "stream",
          "name": "stdout",
          "text": [
            "[1 2 3 4 5]\n",
            "<class 'numpy.ndarray'>\n"
          ]
        }
      ]
    },
    {
      "cell_type": "code",
      "source": [
        "# 2D array\n",
        "arr = np.array([[1,2,3],[4,5,6]])\n",
        "print(arr)\n",
        "print(type(arr))"
      ],
      "metadata": {
        "colab": {
          "base_uri": "https://localhost:8080/"
        },
        "id": "IAlRye7yhz2e",
        "outputId": "fc2a1522-8fd7-46ea-94bf-52348bc5e370"
      },
      "execution_count": 33,
      "outputs": [
        {
          "output_type": "stream",
          "name": "stdout",
          "text": [
            "[[1 2 3]\n",
            " [4 5 6]]\n",
            "<class 'numpy.ndarray'>\n"
          ]
        }
      ]
    },
    {
      "cell_type": "code",
      "source": [
        "# 3D array\n",
        "arr = np.array([[[1,2,3],[4,5,6]],[[7,8,9],[10,11,12]]])\n",
        "print(arr)\n",
        "print(\"\\n\")\n",
        "print(\"jumlah dimensi array {}\".format(arr.ndim)) # menampilkan jumlah dimensi pada array"
      ],
      "metadata": {
        "colab": {
          "base_uri": "https://localhost:8080/"
        },
        "id": "lXOYtTDCh9kw",
        "outputId": "1650cb3f-cf3b-41ce-d494-1a407368ee7e"
      },
      "execution_count": 34,
      "outputs": [
        {
          "output_type": "stream",
          "name": "stdout",
          "text": [
            "[[[ 1  2  3]\n",
            "  [ 4  5  6]]\n",
            "\n",
            " [[ 7  8  9]\n",
            "  [10 11 12]]]\n",
            "\n",
            "\n",
            "jumlah dimensi array 3\n"
          ]
        }
      ]
    },
    {
      "cell_type": "code",
      "source": [
        "# Pemanggilan Array 1D\n",
        "arrcheck = np.array([1,2,3,4,5])\n",
        "print(arrcheck[3])\n",
        "print(arrcheck[0] + arrcheck[3])"
      ],
      "metadata": {
        "colab": {
          "base_uri": "https://localhost:8080/"
        },
        "id": "2KDgVYPHibsl",
        "outputId": "a401537e-95a8-453f-ae03-08410b3d5a3d"
      },
      "execution_count": 35,
      "outputs": [
        {
          "output_type": "stream",
          "name": "stdout",
          "text": [
            "4\n",
            "5\n"
          ]
        }
      ]
    },
    {
      "cell_type": "code",
      "source": [
        "# Pemanggilan Array 2D\n",
        "arnold = np.array([[1,2,3],[4,5,6]])\n",
        "print(arnold[0][1])"
      ],
      "metadata": {
        "colab": {
          "base_uri": "https://localhost:8080/"
        },
        "id": "RKFTDba_iyrk",
        "outputId": "b7675a7e-ed02-4537-e4a4-f179263a4d3d"
      },
      "execution_count": 36,
      "outputs": [
        {
          "output_type": "stream",
          "name": "stdout",
          "text": [
            "2\n"
          ]
        }
      ]
    },
    {
      "cell_type": "code",
      "source": [
        "# Pemanggilan Array 3D\n",
        "jesse = np.array([[[1,2,3],[4,5,6]],[[7,8,9],[1,2,3]]])\n",
        "print(jesse[0][1][1])"
      ],
      "metadata": {
        "colab": {
          "base_uri": "https://localhost:8080/"
        },
        "id": "qOSyXiqBjPrs",
        "outputId": "af0b56fd-e50a-4a6f-cdd9-be2ecdf772c6"
      },
      "execution_count": 37,
      "outputs": [
        {
          "output_type": "stream",
          "name": "stdout",
          "text": [
            "5\n"
          ]
        }
      ]
    },
    {
      "cell_type": "code",
      "source": [
        "# Pengubahan nilai array\n",
        "jessica = np.array([[1,2,3],[4,5,6]])\n",
        "print(\"Sebelum pengubahan:{}\".format(jessica))\n",
        "jessica[1][0] = 10\n",
        "print(\"Sesudah pengubahan:{}\".format(jessica))\n"
      ],
      "metadata": {
        "colab": {
          "base_uri": "https://localhost:8080/"
        },
        "id": "qMvO9lMNjjo9",
        "outputId": "68f1e363-157d-4f57-9b59-3e75a0e16385"
      },
      "execution_count": 38,
      "outputs": [
        {
          "output_type": "stream",
          "name": "stdout",
          "text": [
            "Sebelum pengubahan:[[1 2 3]\n",
            " [4 5 6]]\n",
            "Sesudah pengubahan:[[ 1  2  3]\n",
            " [10  5  6]]\n"
          ]
        }
      ]
    },
    {
      "cell_type": "code",
      "source": [
        "# SLICING => PENGAMBILAN BEBERAPA NILAI ITEM PADA ARRAY\n",
        "# slicing 1D array\n",
        "number = np.array([1,2,3,4,5])\n",
        "print(number[1:3])"
      ],
      "metadata": {
        "colab": {
          "base_uri": "https://localhost:8080/"
        },
        "id": "sgLGdHa-kJsV",
        "outputId": "18a1a5bd-dbe1-4c16-b85f-074f883b2748"
      },
      "execution_count": 39,
      "outputs": [
        {
          "output_type": "stream",
          "name": "stdout",
          "text": [
            "[2 3]\n"
          ]
        }
      ]
    },
    {
      "cell_type": "code",
      "source": [
        "# slicing 2D array\n",
        "number2 = np.array([[1,2,3],[4,5,6]])\n",
        "print(number2[0,:])"
      ],
      "metadata": {
        "colab": {
          "base_uri": "https://localhost:8080/"
        },
        "id": "JQRHLiNwkgmG",
        "outputId": "6bf8e929-68c5-47f9-e893-03f07b909dc8"
      },
      "execution_count": 40,
      "outputs": [
        {
          "output_type": "stream",
          "name": "stdout",
          "text": [
            "[1 2 3]\n"
          ]
        }
      ]
    },
    {
      "cell_type": "code",
      "source": [
        "# slicing 3D array\n",
        "number3 = np.array([[[1,2,3],[4,5,6]],[[7,8,9],[10,11,12]]])\n",
        "print(number3[1,1,:])"
      ],
      "metadata": {
        "colab": {
          "base_uri": "https://localhost:8080/"
        },
        "id": "OxdHXhPtkwIG",
        "outputId": "d3f7c9a1-bcc7-4691-866c-4dfb832d9c0d"
      },
      "execution_count": 41,
      "outputs": [
        {
          "output_type": "stream",
          "name": "stdout",
          "text": [
            "[10 11 12]\n"
          ]
        }
      ]
    },
    {
      "cell_type": "markdown",
      "source": [
        "### Nilai dalam array dapat diubah dengan menggunakan fungsi astype() dan argument karakter berikut:\n",
        "\n",
        "*   integer (i)\n",
        "*   boolean (b)\n",
        "*   unsigned integer (u)\n",
        "*   float (f)\n",
        "*   object (o)\n",
        "*   string (s)\n",
        "\n"
      ],
      "metadata": {
        "id": "m0n2NzublTMC"
      }
    },
    {
      "cell_type": "code",
      "source": [
        "# MENGUBAH TIPE DATA ARRAY\n",
        "arra = np.array(['1','2','3'])\n",
        "newArra = arra.astype('i')\n",
        "print(newArra)"
      ],
      "metadata": {
        "colab": {
          "base_uri": "https://localhost:8080/"
        },
        "id": "zxJ9QQ_ClMK_",
        "outputId": "686cd33a-4cf0-4c31-bfd2-d65be2056a3b"
      },
      "execution_count": 42,
      "outputs": [
        {
          "output_type": "stream",
          "name": "stdout",
          "text": [
            "[1 2 3]\n"
          ]
        }
      ]
    },
    {
      "cell_type": "code",
      "source": [
        "# PENGUBAHAN DIMENSI ARRAY DENGAN MENGGUNAKNA FUNGSI RESHAPE()\n",
        "# 1D array -> 2d array\n",
        "check = np.array([1,2,3,4,5,6])\n",
        "new_check = check.reshape(2,3) #arugment pada fungsi reshape kalo dikalikan harus memiliki nilai yang sama dengan jumlah item pada array\n",
        "new_check"
      ],
      "metadata": {
        "colab": {
          "base_uri": "https://localhost:8080/"
        },
        "id": "yqiRBZ3Glsik",
        "outputId": "c96c382a-9877-44bf-d4c4-6f6ea323f064"
      },
      "execution_count": 43,
      "outputs": [
        {
          "output_type": "execute_result",
          "data": {
            "text/plain": [
              "array([[1, 2, 3],\n",
              "       [4, 5, 6]])"
            ]
          },
          "metadata": {},
          "execution_count": 43
        }
      ]
    },
    {
      "cell_type": "code",
      "source": [
        "# 2d array -> 3d array\n",
        "check2 = np.array([[1,2,3],[4,5,6],[7,8,9],[10,11,12]])\n",
        "new_check2 = check2.reshape(2,3,2)\n",
        "new_check2"
      ],
      "metadata": {
        "colab": {
          "base_uri": "https://localhost:8080/"
        },
        "id": "gQGULufrm3ES",
        "outputId": "7a846107-c089-495a-d4d0-cd81ef4e7d73"
      },
      "execution_count": 44,
      "outputs": [
        {
          "output_type": "execute_result",
          "data": {
            "text/plain": [
              "array([[[ 1,  2],\n",
              "        [ 3,  4],\n",
              "        [ 5,  6]],\n",
              "\n",
              "       [[ 7,  8],\n",
              "        [ 9, 10],\n",
              "        [11, 12]]])"
            ]
          },
          "metadata": {},
          "execution_count": 44
        }
      ]
    },
    {
      "cell_type": "code",
      "source": [
        "# REDUKSI DIMENSI ARRAY (2D array -> 1D array)\n",
        "tes = np.array([[1,2,3],[4,5,6]])\n",
        "new_tes = tes.reshape(-1)\n",
        "new_tes"
      ],
      "metadata": {
        "colab": {
          "base_uri": "https://localhost:8080/"
        },
        "id": "UG2wO1AEnRMn",
        "outputId": "44757a7c-dea2-47a4-c284-03c073eed2d1"
      },
      "execution_count": 45,
      "outputs": [
        {
          "output_type": "execute_result",
          "data": {
            "text/plain": [
              "array([1, 2, 3, 4, 5, 6])"
            ]
          },
          "metadata": {},
          "execution_count": 45
        }
      ]
    },
    {
      "cell_type": "code",
      "source": [
        "# ITERASI ARRAY\n",
        "\n",
        "# 1D array\n",
        "arrayy = np.array([1,2,3,4,5])\n",
        "for x in arrayy:\n",
        "  print(x)"
      ],
      "metadata": {
        "colab": {
          "base_uri": "https://localhost:8080/"
        },
        "id": "k58KBCyen1Yu",
        "outputId": "8f532f02-f230-47c8-f0c7-5879a61361ec"
      },
      "execution_count": 46,
      "outputs": [
        {
          "output_type": "stream",
          "name": "stdout",
          "text": [
            "1\n",
            "2\n",
            "3\n",
            "4\n",
            "5\n"
          ]
        }
      ]
    },
    {
      "cell_type": "code",
      "source": [
        "# 2D array\n",
        "arrayy2 = np.array([[1,2,3],[4,5,6]])\n",
        "for x in arrayy2:\n",
        "  for y in x:\n",
        "    print(y)"
      ],
      "metadata": {
        "colab": {
          "base_uri": "https://localhost:8080/"
        },
        "id": "8H0wtrjeoCdc",
        "outputId": "c837bca5-be47-4b2a-d37c-1bc6e69ba21a"
      },
      "execution_count": 47,
      "outputs": [
        {
          "output_type": "stream",
          "name": "stdout",
          "text": [
            "1\n",
            "2\n",
            "3\n",
            "4\n",
            "5\n",
            "6\n"
          ]
        }
      ]
    },
    {
      "cell_type": "code",
      "source": [
        "# 3D array\n",
        "arrayy3 = np.array([[[1,2,3],[4,5,6]],[[7,8,9],[10,11,12]]])\n",
        "for x in arrayy3:\n",
        "  for y in x:\n",
        "    for z in y:\n",
        "      print(z)"
      ],
      "metadata": {
        "colab": {
          "base_uri": "https://localhost:8080/"
        },
        "id": "VkNqswX0oOWD",
        "outputId": "022b96f6-5e8c-4257-c61d-d2bc93d9eac4"
      },
      "execution_count": 48,
      "outputs": [
        {
          "output_type": "stream",
          "name": "stdout",
          "text": [
            "1\n",
            "2\n",
            "3\n",
            "4\n",
            "5\n",
            "6\n",
            "7\n",
            "8\n",
            "9\n",
            "10\n",
            "11\n",
            "12\n"
          ]
        }
      ]
    },
    {
      "cell_type": "markdown",
      "source": [
        "### Penggunaan Array Join, yaitu:\n",
        "\n",
        "*   menggabungkan dua buah array. tidak sama dengan implementasi penjumlahan string.\n",
        "*   menggunakan concatenate()\n",
        "*   axis = 0, maka membentuk baris baru (default)\n",
        "*   axis = 1, maka membentuk kolom baru\n",
        "\n",
        "\n"
      ],
      "metadata": {
        "id": "UH_ZmfQC53Zy"
      }
    },
    {
      "cell_type": "code",
      "source": [
        "# Array concat\n",
        "\n",
        "arr1 = np.array([[1,2,3,4,5]])\n",
        "arr2 = np.array([[5,6,7,8,9]])\n",
        "\n",
        "arrtot = np.concatenate((arr1,arr2),axis = 0)\n",
        "print(arrtot)"
      ],
      "metadata": {
        "id": "C2ipDLBcodKu",
        "colab": {
          "base_uri": "https://localhost:8080/"
        },
        "outputId": "1f7da44b-d7e7-44b2-af03-3a58f42da6d5"
      },
      "execution_count": 49,
      "outputs": [
        {
          "output_type": "stream",
          "name": "stdout",
          "text": [
            "[[1 2 3 4 5]\n",
            " [5 6 7 8 9]]\n"
          ]
        }
      ]
    },
    {
      "cell_type": "code",
      "source": [
        "arr1 = np.array([[1,2,3,4,5]])\n",
        "arr2 = np.array([[5,6,7,8,9]])\n",
        "\n",
        "arrtot = np.concatenate((arr1,arr2),axis = 1)\n",
        "print(arrtot)"
      ],
      "metadata": {
        "colab": {
          "base_uri": "https://localhost:8080/"
        },
        "id": "TIPuyw6r6eWb",
        "outputId": "b360b813-a512-4a67-8a7e-8d3903ea4404"
      },
      "execution_count": 50,
      "outputs": [
        {
          "output_type": "stream",
          "name": "stdout",
          "text": [
            "[[1 2 3 4 5 5 6 7 8 9]]\n"
          ]
        }
      ]
    },
    {
      "cell_type": "code",
      "source": [
        "# ARRAY SPLITTING\n",
        "\n",
        "start = np.array([1,2,3,4,5,6])\n",
        "new_start = np.array_split(start,3)\n",
        "\n",
        "print(\"Sebelum:{}\".format(start))\n",
        "print(\"Sesudah:{}\".format(new_start))"
      ],
      "metadata": {
        "colab": {
          "base_uri": "https://localhost:8080/"
        },
        "id": "oHNCNEcY67wt",
        "outputId": "aabf1ba5-30f5-493e-aff4-007af88411fd"
      },
      "execution_count": 51,
      "outputs": [
        {
          "output_type": "stream",
          "name": "stdout",
          "text": [
            "Sebelum:[1 2 3 4 5 6]\n",
            "Sesudah:[array([1, 2]), array([3, 4]), array([5, 6])]\n"
          ]
        }
      ]
    },
    {
      "cell_type": "code",
      "source": [
        "old = np.array([[1,2],[3,4],[5,6],[7,8],[9,10],[11,12]])\n",
        "new = np.array_split(old,3)\n",
        "\n",
        "print(\"Sebelum:{}\".format(old))\n",
        "print(\"Sesudah:{}\".format(new))"
      ],
      "metadata": {
        "colab": {
          "base_uri": "https://localhost:8080/"
        },
        "id": "vYb2VYaE7KgB",
        "outputId": "a9b25028-e183-4e33-8aa1-e2e3140c0c1b"
      },
      "execution_count": 52,
      "outputs": [
        {
          "output_type": "stream",
          "name": "stdout",
          "text": [
            "Sebelum:[[ 1  2]\n",
            " [ 3  4]\n",
            " [ 5  6]\n",
            " [ 7  8]\n",
            " [ 9 10]\n",
            " [11 12]]\n",
            "Sesudah:[array([[1, 2],\n",
            "       [3, 4]]), array([[5, 6],\n",
            "       [7, 8]]), array([[ 9, 10],\n",
            "       [11, 12]])]\n"
          ]
        }
      ]
    },
    {
      "cell_type": "code",
      "source": [
        "# ARRAY SEARCH => pencarian item dengan hasil index\n",
        "\n",
        "old1 = np.array([1,2,3,4,5])\n",
        "x = np.where(old1 == 1)\n",
        "print(x)"
      ],
      "metadata": {
        "colab": {
          "base_uri": "https://localhost:8080/"
        },
        "id": "ppSSvgBm8Fi1",
        "outputId": "d3f7e0f5-40b9-4a18-d9be-bcb755d1383e"
      },
      "execution_count": 53,
      "outputs": [
        {
          "output_type": "stream",
          "name": "stdout",
          "text": [
            "(array([0]),)\n"
          ]
        }
      ]
    },
    {
      "cell_type": "code",
      "source": [
        "y = np.where(old1 % 2 == 0)\n",
        "print(y)"
      ],
      "metadata": {
        "colab": {
          "base_uri": "https://localhost:8080/"
        },
        "id": "695kUNBx8bs2",
        "outputId": "06ff0d13-5538-42d5-8bf4-85d190963d18"
      },
      "execution_count": 54,
      "outputs": [
        {
          "output_type": "stream",
          "name": "stdout",
          "text": [
            "(array([1, 3]),)\n"
          ]
        }
      ]
    },
    {
      "cell_type": "code",
      "source": [
        "z = np.where(old1 == 0)\n",
        "print(z)"
      ],
      "metadata": {
        "colab": {
          "base_uri": "https://localhost:8080/"
        },
        "id": "BXHuuvJS8gMu",
        "outputId": "02e798e6-7561-4f2a-9856-8cb6e47d299b"
      },
      "execution_count": 55,
      "outputs": [
        {
          "output_type": "stream",
          "name": "stdout",
          "text": [
            "(array([], dtype=int64),)\n"
          ]
        }
      ]
    },
    {
      "cell_type": "code",
      "source": [
        "# ARRAY SORT => mengurutkan\n",
        "\n",
        "no_sort = np.array([5,3,2,1,4])\n",
        "print(np.sort(no_sort))"
      ],
      "metadata": {
        "colab": {
          "base_uri": "https://localhost:8080/"
        },
        "id": "flZMh7Pb87Du",
        "outputId": "0e713634-a946-4957-b0ae-6d335f87e5bf"
      },
      "execution_count": 56,
      "outputs": [
        {
          "output_type": "stream",
          "name": "stdout",
          "text": [
            "[1 2 3 4 5]\n"
          ]
        }
      ]
    },
    {
      "cell_type": "code",
      "source": [
        "no_sort2 = np.array([[2,3,1],[5,1,0]])\n",
        "print(np.sort(no_sort2))"
      ],
      "metadata": {
        "colab": {
          "base_uri": "https://localhost:8080/"
        },
        "id": "QrzhY8G29Szv",
        "outputId": "49dbdc31-cb95-4513-f997-66b1e60a0171"
      },
      "execution_count": 57,
      "outputs": [
        {
          "output_type": "stream",
          "name": "stdout",
          "text": [
            "[[1 2 3]\n",
            " [0 1 5]]\n"
          ]
        }
      ]
    },
    {
      "cell_type": "code",
      "source": [
        "alphabet = np.array(['cutipie','apple','banana'])\n",
        "print(np.sort(alphabet))"
      ],
      "metadata": {
        "colab": {
          "base_uri": "https://localhost:8080/"
        },
        "id": "lGfr6Quv9dJk",
        "outputId": "6d061c31-0e63-4dcc-de40-72aa3a812695"
      },
      "execution_count": 58,
      "outputs": [
        {
          "output_type": "stream",
          "name": "stdout",
          "text": [
            "['apple' 'banana' 'cutipie']\n"
          ]
        }
      ]
    },
    {
      "cell_type": "code",
      "source": [
        "# REVERSED ARRAY => membalikkan urutan array\n",
        "\n",
        "tes = np.array([3,2,1,4,5])\n",
        "new_tes = np.sort(tes)\n",
        "\n",
        "# reversed\n",
        "re_tes = new_tes[::-1]\n",
        "\n",
        "print(\"Sebelum:{}\".format(new_tes))\n",
        "print(\"Sesudah:{}\".format(re_tes))"
      ],
      "metadata": {
        "colab": {
          "base_uri": "https://localhost:8080/"
        },
        "id": "wn27mZvx9vxl",
        "outputId": "f18f722c-9d27-4c97-fe8d-d9791618c2bf"
      },
      "execution_count": 59,
      "outputs": [
        {
          "output_type": "stream",
          "name": "stdout",
          "text": [
            "Sebelum:[1 2 3 4 5]\n",
            "Sesudah:[5 4 3 2 1]\n"
          ]
        }
      ]
    },
    {
      "cell_type": "code",
      "source": [
        "# OPERASI MATEMATIKA ARRAY\n",
        "\n",
        "# penjumlahan  => konsep nya sama dengan pengurangan, pembagian, perkalian.\n",
        "a = np.array([1,2,3,4])\n",
        "a + 1"
      ],
      "metadata": {
        "colab": {
          "base_uri": "https://localhost:8080/"
        },
        "id": "4I8YgP2X_4ip",
        "outputId": "247ceb36-61c4-4c6c-a3ad-6bef8a286d27"
      },
      "execution_count": 60,
      "outputs": [
        {
          "output_type": "execute_result",
          "data": {
            "text/plain": [
              "array([2, 3, 4, 5])"
            ]
          },
          "metadata": {},
          "execution_count": 60
        }
      ]
    },
    {
      "cell_type": "code",
      "source": [
        " b = np.array([3,4,5,6])\n",
        " a + b"
      ],
      "metadata": {
        "colab": {
          "base_uri": "https://localhost:8080/"
        },
        "id": "mnOEcmKOABVf",
        "outputId": "da3d124d-5a08-4c4a-fc42-94b71f47acbf"
      },
      "execution_count": 61,
      "outputs": [
        {
          "output_type": "execute_result",
          "data": {
            "text/plain": [
              "array([ 4,  6,  8, 10])"
            ]
          },
          "metadata": {},
          "execution_count": 61
        }
      ]
    },
    {
      "cell_type": "code",
      "source": [
        "# OPERASI LOGIKA DALAM ARRAY\n",
        "c = np.array([1,2,3,4,5])\n",
        "d = np.array([5,4,3,2,1])\n",
        "\n",
        "c == d"
      ],
      "metadata": {
        "colab": {
          "base_uri": "https://localhost:8080/"
        },
        "id": "dh1Sj4TFAFvZ",
        "outputId": "36764982-3151-41ea-a01a-78668b909a57"
      },
      "execution_count": 62,
      "outputs": [
        {
          "output_type": "execute_result",
          "data": {
            "text/plain": [
              "array([False, False,  True, False, False])"
            ]
          },
          "metadata": {},
          "execution_count": 62
        }
      ]
    },
    {
      "cell_type": "code",
      "source": [
        "c > d"
      ],
      "metadata": {
        "colab": {
          "base_uri": "https://localhost:8080/"
        },
        "id": "TEELvz2_AhQR",
        "outputId": "724eea57-cd9c-491c-b291-cf8eb7da2cd6"
      },
      "execution_count": 63,
      "outputs": [
        {
          "output_type": "execute_result",
          "data": {
            "text/plain": [
              "array([False, False, False,  True,  True])"
            ]
          },
          "metadata": {},
          "execution_count": 63
        }
      ]
    },
    {
      "cell_type": "code",
      "source": [
        "np.array_equal(c,d)"
      ],
      "metadata": {
        "colab": {
          "base_uri": "https://localhost:8080/"
        },
        "id": "bXYBqxS2Ankk",
        "outputId": "2826507e-6816-4cea-a374-fb3acc8b67c7"
      },
      "execution_count": 64,
      "outputs": [
        {
          "output_type": "execute_result",
          "data": {
            "text/plain": [
              "False"
            ]
          },
          "metadata": {},
          "execution_count": 64
        }
      ]
    },
    {
      "cell_type": "code",
      "source": [
        "# OPERASI VEKTOR DALAM ARRAY\n",
        "\n",
        "# DOT PRODUCT 1D\n",
        "e = np.array([1,2,3,4])\n",
        "f = np.array([2,3,4,5])\n",
        "\n",
        "np.dot(e,f)"
      ],
      "metadata": {
        "colab": {
          "base_uri": "https://localhost:8080/"
        },
        "id": "Sm6NyfKdAq5U",
        "outputId": "6dbef67d-d4ee-48dd-9765-9e8c6b2e1665"
      },
      "execution_count": 65,
      "outputs": [
        {
          "output_type": "execute_result",
          "data": {
            "text/plain": [
              "40"
            ]
          },
          "metadata": {},
          "execution_count": 65
        }
      ]
    },
    {
      "cell_type": "code",
      "source": [
        "# DOT PRODUCT 2D\n",
        "g = np.array([[1,2,3],[4,5,6]])\n",
        "h = np.array([2,3,4])\n",
        "\n",
        "np.dot(g,h)"
      ],
      "metadata": {
        "colab": {
          "base_uri": "https://localhost:8080/"
        },
        "id": "m1uZldIUCRFW",
        "outputId": "eb3dd1ef-799b-478d-d0c5-00720b1fc43e"
      },
      "execution_count": 66,
      "outputs": [
        {
          "output_type": "execute_result",
          "data": {
            "text/plain": [
              "array([20, 47])"
            ]
          },
          "metadata": {},
          "execution_count": 66
        }
      ]
    },
    {
      "cell_type": "code",
      "source": [
        "# CROSS PRODUCT\n",
        "\n",
        "i = np.array([1,3])\n",
        "j = np.array([2,4])\n",
        "\n",
        "np.cross(i,j)"
      ],
      "metadata": {
        "colab": {
          "base_uri": "https://localhost:8080/"
        },
        "id": "NomwJSyJCd_Y",
        "outputId": "4d86ac17-d729-4e07-df15-7ea76a0e0460"
      },
      "execution_count": 67,
      "outputs": [
        {
          "output_type": "execute_result",
          "data": {
            "text/plain": [
              "array(-2)"
            ]
          },
          "metadata": {},
          "execution_count": 67
        }
      ]
    },
    {
      "cell_type": "code",
      "source": [
        "# PERKALIAN MATRIKS\n",
        "a = np.array([[1,1],[1,2]])\n",
        "b = np.array([[1,3],[2,4]])\n",
        "\n",
        "np.matmul(a,b)"
      ],
      "metadata": {
        "colab": {
          "base_uri": "https://localhost:8080/"
        },
        "id": "IY2w4lzVCvNE",
        "outputId": "a6d5bc18-135e-4f7f-d9bf-7a1e9700ef5e"
      },
      "execution_count": 68,
      "outputs": [
        {
          "output_type": "execute_result",
          "data": {
            "text/plain": [
              "array([[ 3,  7],\n",
              "       [ 5, 11]])"
            ]
          },
          "metadata": {},
          "execution_count": 68
        }
      ]
    },
    {
      "cell_type": "code",
      "source": [
        "# INVERSE MATRIKS\n",
        "a = np.array([[1,3],[2,4]])\n",
        "a_inverse = np.linalg.inv(a)\n",
        "\n",
        "a_inverse\n"
      ],
      "metadata": {
        "id": "hfuX8VWuDU5f",
        "colab": {
          "base_uri": "https://localhost:8080/"
        },
        "outputId": "ed3726d6-af49-423a-89e1-f7b08414a5be"
      },
      "execution_count": 69,
      "outputs": [
        {
          "output_type": "execute_result",
          "data": {
            "text/plain": [
              "array([[-2. ,  1.5],\n",
              "       [ 1. , -0.5]])"
            ]
          },
          "metadata": {},
          "execution_count": 69
        }
      ]
    },
    {
      "cell_type": "code",
      "source": [
        "# untuk mengecek apakah nilai inverse benar atau tidak\n",
        "np.matmul(a,a_inverse)"
      ],
      "metadata": {
        "colab": {
          "base_uri": "https://localhost:8080/"
        },
        "id": "PfUAuc-GjJIr",
        "outputId": "0e74aa07-5d56-4554-9817-a5d01a50c7ff"
      },
      "execution_count": 71,
      "outputs": [
        {
          "output_type": "execute_result",
          "data": {
            "text/plain": [
              "array([[1., 0.],\n",
              "       [0., 1.]])"
            ]
          },
          "metadata": {},
          "execution_count": 71
        }
      ]
    },
    {
      "cell_type": "code",
      "source": [
        "# TRANSPOSE MATRIKS\n",
        "\n",
        "a = np.array([[1,3],[2,4]])\n",
        "a.T"
      ],
      "metadata": {
        "colab": {
          "base_uri": "https://localhost:8080/"
        },
        "id": "IEYp08lvjg0e",
        "outputId": "3b6af3cf-5ebf-4c1b-cb74-7ec131ff92b4"
      },
      "execution_count": 73,
      "outputs": [
        {
          "output_type": "execute_result",
          "data": {
            "text/plain": [
              "array([[1, 2],\n",
              "       [3, 4]])"
            ]
          },
          "metadata": {},
          "execution_count": 73
        }
      ]
    },
    {
      "cell_type": "markdown",
      "source": [
        "### PANDAS\n",
        "\n",
        "1.   Pandas => library yang bersifat open-source. Banyak digunakan untuk manipulasi dan analisa data.\n",
        "2.   Struktur data nya objek dataframe, sehingga mendukung pengindeksan (sehingga mudah untuk menemukan lokasi data).\n",
        "3.   Pandas memungkinkan untuk membaca data dalam format CSV/text file, Microsoft Excel. databse SQL, format HDF5 (dengan menggunakan koneksi tertentu). Pandas memudahkan untuk reshaping dan pivoting.\n",
        "4.   Dua jenis struktur data yang dapat diolah dengan Pandas:\n",
        "   * series: array 1D yang menampung banyak jenis tipe data. (dibayangkan seperti 1 buah kolom)\n",
        "   * dataframe: array 2D yang menampung banyak tipe data. (dibayangkan seperti baris dan kolom).\n",
        "\n"
      ],
      "metadata": {
        "id": "ZbpLl4QEj33p"
      }
    },
    {
      "cell_type": "code",
      "source": [
        "import pandas as pd\n",
        "\n",
        "data = {\n",
        "    'name' : ['putri','della','irma'],\n",
        "    'id'   : ['201402061','201402151','201402136'],\n",
        "    'age'  : [20,21,20],\n",
        "    'major': ['TI','ILKOM','TI']\n",
        "}\n",
        "\n",
        "df = pd.DataFrame(data)\n",
        "print(df)"
      ],
      "metadata": {
        "colab": {
          "base_uri": "https://localhost:8080/"
        },
        "id": "v5-nWaUJjs2V",
        "outputId": "aa247e0d-17c9-4a74-b957-7504cbe126d6"
      },
      "execution_count": 75,
      "outputs": [
        {
          "output_type": "stream",
          "name": "stdout",
          "text": [
            "    name         id  age  major\n",
            "0  putri  201402061   20     TI\n",
            "1  della  201402151   21  ILKOM\n",
            "2   irma  201402136   20     TI\n"
          ]
        }
      ]
    },
    {
      "cell_type": "code",
      "source": [
        "# membuat dataframe dari List\n",
        "import pandas as pd\n",
        "\n",
        "firstname = ['putri','della','irma']\n",
        "lastname = ['yanti','febriana','ginting']\n",
        "\n",
        "df = pd.DataFrame(list(zip(firstname,lastname)), columns = ['Firstname','Lastname'])\n",
        "df"
      ],
      "metadata": {
        "colab": {
          "base_uri": "https://localhost:8080/",
          "height": 143
        },
        "id": "rxt4Zcnim0m0",
        "outputId": "f9f3663c-ba1c-4a9e-83d2-8bda78b0d094"
      },
      "execution_count": 76,
      "outputs": [
        {
          "output_type": "execute_result",
          "data": {
            "text/plain": [
              "  Firstname  Lastname\n",
              "0     putri     yanti\n",
              "1     della  febriana\n",
              "2      irma   ginting"
            ],
            "text/html": [
              "\n",
              "  <div id=\"df-f37ffb24-24d7-43f7-a24b-62c601c6bf16\" class=\"colab-df-container\">\n",
              "    <div>\n",
              "<style scoped>\n",
              "    .dataframe tbody tr th:only-of-type {\n",
              "        vertical-align: middle;\n",
              "    }\n",
              "\n",
              "    .dataframe tbody tr th {\n",
              "        vertical-align: top;\n",
              "    }\n",
              "\n",
              "    .dataframe thead th {\n",
              "        text-align: right;\n",
              "    }\n",
              "</style>\n",
              "<table border=\"1\" class=\"dataframe\">\n",
              "  <thead>\n",
              "    <tr style=\"text-align: right;\">\n",
              "      <th></th>\n",
              "      <th>Firstname</th>\n",
              "      <th>Lastname</th>\n",
              "    </tr>\n",
              "  </thead>\n",
              "  <tbody>\n",
              "    <tr>\n",
              "      <th>0</th>\n",
              "      <td>putri</td>\n",
              "      <td>yanti</td>\n",
              "    </tr>\n",
              "    <tr>\n",
              "      <th>1</th>\n",
              "      <td>della</td>\n",
              "      <td>febriana</td>\n",
              "    </tr>\n",
              "    <tr>\n",
              "      <th>2</th>\n",
              "      <td>irma</td>\n",
              "      <td>ginting</td>\n",
              "    </tr>\n",
              "  </tbody>\n",
              "</table>\n",
              "</div>\n",
              "    <div class=\"colab-df-buttons\">\n",
              "\n",
              "  <div class=\"colab-df-container\">\n",
              "    <button class=\"colab-df-convert\" onclick=\"convertToInteractive('df-f37ffb24-24d7-43f7-a24b-62c601c6bf16')\"\n",
              "            title=\"Convert this dataframe to an interactive table.\"\n",
              "            style=\"display:none;\">\n",
              "\n",
              "  <svg xmlns=\"http://www.w3.org/2000/svg\" height=\"24px\" viewBox=\"0 -960 960 960\">\n",
              "    <path d=\"M120-120v-720h720v720H120Zm60-500h600v-160H180v160Zm220 220h160v-160H400v160Zm0 220h160v-160H400v160ZM180-400h160v-160H180v160Zm440 0h160v-160H620v160ZM180-180h160v-160H180v160Zm440 0h160v-160H620v160Z\"/>\n",
              "  </svg>\n",
              "    </button>\n",
              "\n",
              "  <style>\n",
              "    .colab-df-container {\n",
              "      display:flex;\n",
              "      gap: 12px;\n",
              "    }\n",
              "\n",
              "    .colab-df-convert {\n",
              "      background-color: #E8F0FE;\n",
              "      border: none;\n",
              "      border-radius: 50%;\n",
              "      cursor: pointer;\n",
              "      display: none;\n",
              "      fill: #1967D2;\n",
              "      height: 32px;\n",
              "      padding: 0 0 0 0;\n",
              "      width: 32px;\n",
              "    }\n",
              "\n",
              "    .colab-df-convert:hover {\n",
              "      background-color: #E2EBFA;\n",
              "      box-shadow: 0px 1px 2px rgba(60, 64, 67, 0.3), 0px 1px 3px 1px rgba(60, 64, 67, 0.15);\n",
              "      fill: #174EA6;\n",
              "    }\n",
              "\n",
              "    .colab-df-buttons div {\n",
              "      margin-bottom: 4px;\n",
              "    }\n",
              "\n",
              "    [theme=dark] .colab-df-convert {\n",
              "      background-color: #3B4455;\n",
              "      fill: #D2E3FC;\n",
              "    }\n",
              "\n",
              "    [theme=dark] .colab-df-convert:hover {\n",
              "      background-color: #434B5C;\n",
              "      box-shadow: 0px 1px 3px 1px rgba(0, 0, 0, 0.15);\n",
              "      filter: drop-shadow(0px 1px 2px rgba(0, 0, 0, 0.3));\n",
              "      fill: #FFFFFF;\n",
              "    }\n",
              "  </style>\n",
              "\n",
              "    <script>\n",
              "      const buttonEl =\n",
              "        document.querySelector('#df-f37ffb24-24d7-43f7-a24b-62c601c6bf16 button.colab-df-convert');\n",
              "      buttonEl.style.display =\n",
              "        google.colab.kernel.accessAllowed ? 'block' : 'none';\n",
              "\n",
              "      async function convertToInteractive(key) {\n",
              "        const element = document.querySelector('#df-f37ffb24-24d7-43f7-a24b-62c601c6bf16');\n",
              "        const dataTable =\n",
              "          await google.colab.kernel.invokeFunction('convertToInteractive',\n",
              "                                                    [key], {});\n",
              "        if (!dataTable) return;\n",
              "\n",
              "        const docLinkHtml = 'Like what you see? Visit the ' +\n",
              "          '<a target=\"_blank\" href=https://colab.research.google.com/notebooks/data_table.ipynb>data table notebook</a>'\n",
              "          + ' to learn more about interactive tables.';\n",
              "        element.innerHTML = '';\n",
              "        dataTable['output_type'] = 'display_data';\n",
              "        await google.colab.output.renderOutput(dataTable, element);\n",
              "        const docLink = document.createElement('div');\n",
              "        docLink.innerHTML = docLinkHtml;\n",
              "        element.appendChild(docLink);\n",
              "      }\n",
              "    </script>\n",
              "  </div>\n",
              "\n",
              "\n",
              "<div id=\"df-82d183ed-f9ef-4554-8ff6-f61638444a32\">\n",
              "  <button class=\"colab-df-quickchart\" onclick=\"quickchart('df-82d183ed-f9ef-4554-8ff6-f61638444a32')\"\n",
              "            title=\"Suggest charts.\"\n",
              "            style=\"display:none;\">\n",
              "\n",
              "<svg xmlns=\"http://www.w3.org/2000/svg\" height=\"24px\"viewBox=\"0 0 24 24\"\n",
              "     width=\"24px\">\n",
              "    <g>\n",
              "        <path d=\"M19 3H5c-1.1 0-2 .9-2 2v14c0 1.1.9 2 2 2h14c1.1 0 2-.9 2-2V5c0-1.1-.9-2-2-2zM9 17H7v-7h2v7zm4 0h-2V7h2v10zm4 0h-2v-4h2v4z\"/>\n",
              "    </g>\n",
              "</svg>\n",
              "  </button>\n",
              "\n",
              "<style>\n",
              "  .colab-df-quickchart {\n",
              "      --bg-color: #E8F0FE;\n",
              "      --fill-color: #1967D2;\n",
              "      --hover-bg-color: #E2EBFA;\n",
              "      --hover-fill-color: #174EA6;\n",
              "      --disabled-fill-color: #AAA;\n",
              "      --disabled-bg-color: #DDD;\n",
              "  }\n",
              "\n",
              "  [theme=dark] .colab-df-quickchart {\n",
              "      --bg-color: #3B4455;\n",
              "      --fill-color: #D2E3FC;\n",
              "      --hover-bg-color: #434B5C;\n",
              "      --hover-fill-color: #FFFFFF;\n",
              "      --disabled-bg-color: #3B4455;\n",
              "      --disabled-fill-color: #666;\n",
              "  }\n",
              "\n",
              "  .colab-df-quickchart {\n",
              "    background-color: var(--bg-color);\n",
              "    border: none;\n",
              "    border-radius: 50%;\n",
              "    cursor: pointer;\n",
              "    display: none;\n",
              "    fill: var(--fill-color);\n",
              "    height: 32px;\n",
              "    padding: 0;\n",
              "    width: 32px;\n",
              "  }\n",
              "\n",
              "  .colab-df-quickchart:hover {\n",
              "    background-color: var(--hover-bg-color);\n",
              "    box-shadow: 0 1px 2px rgba(60, 64, 67, 0.3), 0 1px 3px 1px rgba(60, 64, 67, 0.15);\n",
              "    fill: var(--button-hover-fill-color);\n",
              "  }\n",
              "\n",
              "  .colab-df-quickchart-complete:disabled,\n",
              "  .colab-df-quickchart-complete:disabled:hover {\n",
              "    background-color: var(--disabled-bg-color);\n",
              "    fill: var(--disabled-fill-color);\n",
              "    box-shadow: none;\n",
              "  }\n",
              "\n",
              "  .colab-df-spinner {\n",
              "    border: 2px solid var(--fill-color);\n",
              "    border-color: transparent;\n",
              "    border-bottom-color: var(--fill-color);\n",
              "    animation:\n",
              "      spin 1s steps(1) infinite;\n",
              "  }\n",
              "\n",
              "  @keyframes spin {\n",
              "    0% {\n",
              "      border-color: transparent;\n",
              "      border-bottom-color: var(--fill-color);\n",
              "      border-left-color: var(--fill-color);\n",
              "    }\n",
              "    20% {\n",
              "      border-color: transparent;\n",
              "      border-left-color: var(--fill-color);\n",
              "      border-top-color: var(--fill-color);\n",
              "    }\n",
              "    30% {\n",
              "      border-color: transparent;\n",
              "      border-left-color: var(--fill-color);\n",
              "      border-top-color: var(--fill-color);\n",
              "      border-right-color: var(--fill-color);\n",
              "    }\n",
              "    40% {\n",
              "      border-color: transparent;\n",
              "      border-right-color: var(--fill-color);\n",
              "      border-top-color: var(--fill-color);\n",
              "    }\n",
              "    60% {\n",
              "      border-color: transparent;\n",
              "      border-right-color: var(--fill-color);\n",
              "    }\n",
              "    80% {\n",
              "      border-color: transparent;\n",
              "      border-right-color: var(--fill-color);\n",
              "      border-bottom-color: var(--fill-color);\n",
              "    }\n",
              "    90% {\n",
              "      border-color: transparent;\n",
              "      border-bottom-color: var(--fill-color);\n",
              "    }\n",
              "  }\n",
              "</style>\n",
              "\n",
              "  <script>\n",
              "    async function quickchart(key) {\n",
              "      const quickchartButtonEl =\n",
              "        document.querySelector('#' + key + ' button');\n",
              "      quickchartButtonEl.disabled = true;  // To prevent multiple clicks.\n",
              "      quickchartButtonEl.classList.add('colab-df-spinner');\n",
              "      try {\n",
              "        const charts = await google.colab.kernel.invokeFunction(\n",
              "            'suggestCharts', [key], {});\n",
              "      } catch (error) {\n",
              "        console.error('Error during call to suggestCharts:', error);\n",
              "      }\n",
              "      quickchartButtonEl.classList.remove('colab-df-spinner');\n",
              "      quickchartButtonEl.classList.add('colab-df-quickchart-complete');\n",
              "    }\n",
              "    (() => {\n",
              "      let quickchartButtonEl =\n",
              "        document.querySelector('#df-82d183ed-f9ef-4554-8ff6-f61638444a32 button');\n",
              "      quickchartButtonEl.style.display =\n",
              "        google.colab.kernel.accessAllowed ? 'block' : 'none';\n",
              "    })();\n",
              "  </script>\n",
              "</div>\n",
              "    </div>\n",
              "  </div>\n"
            ]
          },
          "metadata": {},
          "execution_count": 76
        }
      ]
    },
    {
      "cell_type": "code",
      "source": [
        "# membuat dataframe dari tuple\n",
        "import pandas as pd\n",
        "\n",
        "firstname = tuple(['putri','della','irma'])\n",
        "lastname = tuple(['yanti','febriana','ginting'])\n",
        "\n",
        "df = pd.DataFrame(list(zip(firstname,lastname)), columns =['Firstname','Lastname'])\n",
        "df\n"
      ],
      "metadata": {
        "colab": {
          "base_uri": "https://localhost:8080/",
          "height": 143
        },
        "id": "xBZQcR1UoU-w",
        "outputId": "39faa0fe-238f-4d3e-c3a5-9605c629b2f1"
      },
      "execution_count": 78,
      "outputs": [
        {
          "output_type": "execute_result",
          "data": {
            "text/plain": [
              "  Firstname  Lastname\n",
              "0     putri     yanti\n",
              "1     della  febriana\n",
              "2      irma   ginting"
            ],
            "text/html": [
              "\n",
              "  <div id=\"df-ed637a87-d959-4361-ae87-42cd114cda7a\" class=\"colab-df-container\">\n",
              "    <div>\n",
              "<style scoped>\n",
              "    .dataframe tbody tr th:only-of-type {\n",
              "        vertical-align: middle;\n",
              "    }\n",
              "\n",
              "    .dataframe tbody tr th {\n",
              "        vertical-align: top;\n",
              "    }\n",
              "\n",
              "    .dataframe thead th {\n",
              "        text-align: right;\n",
              "    }\n",
              "</style>\n",
              "<table border=\"1\" class=\"dataframe\">\n",
              "  <thead>\n",
              "    <tr style=\"text-align: right;\">\n",
              "      <th></th>\n",
              "      <th>Firstname</th>\n",
              "      <th>Lastname</th>\n",
              "    </tr>\n",
              "  </thead>\n",
              "  <tbody>\n",
              "    <tr>\n",
              "      <th>0</th>\n",
              "      <td>putri</td>\n",
              "      <td>yanti</td>\n",
              "    </tr>\n",
              "    <tr>\n",
              "      <th>1</th>\n",
              "      <td>della</td>\n",
              "      <td>febriana</td>\n",
              "    </tr>\n",
              "    <tr>\n",
              "      <th>2</th>\n",
              "      <td>irma</td>\n",
              "      <td>ginting</td>\n",
              "    </tr>\n",
              "  </tbody>\n",
              "</table>\n",
              "</div>\n",
              "    <div class=\"colab-df-buttons\">\n",
              "\n",
              "  <div class=\"colab-df-container\">\n",
              "    <button class=\"colab-df-convert\" onclick=\"convertToInteractive('df-ed637a87-d959-4361-ae87-42cd114cda7a')\"\n",
              "            title=\"Convert this dataframe to an interactive table.\"\n",
              "            style=\"display:none;\">\n",
              "\n",
              "  <svg xmlns=\"http://www.w3.org/2000/svg\" height=\"24px\" viewBox=\"0 -960 960 960\">\n",
              "    <path d=\"M120-120v-720h720v720H120Zm60-500h600v-160H180v160Zm220 220h160v-160H400v160Zm0 220h160v-160H400v160ZM180-400h160v-160H180v160Zm440 0h160v-160H620v160ZM180-180h160v-160H180v160Zm440 0h160v-160H620v160Z\"/>\n",
              "  </svg>\n",
              "    </button>\n",
              "\n",
              "  <style>\n",
              "    .colab-df-container {\n",
              "      display:flex;\n",
              "      gap: 12px;\n",
              "    }\n",
              "\n",
              "    .colab-df-convert {\n",
              "      background-color: #E8F0FE;\n",
              "      border: none;\n",
              "      border-radius: 50%;\n",
              "      cursor: pointer;\n",
              "      display: none;\n",
              "      fill: #1967D2;\n",
              "      height: 32px;\n",
              "      padding: 0 0 0 0;\n",
              "      width: 32px;\n",
              "    }\n",
              "\n",
              "    .colab-df-convert:hover {\n",
              "      background-color: #E2EBFA;\n",
              "      box-shadow: 0px 1px 2px rgba(60, 64, 67, 0.3), 0px 1px 3px 1px rgba(60, 64, 67, 0.15);\n",
              "      fill: #174EA6;\n",
              "    }\n",
              "\n",
              "    .colab-df-buttons div {\n",
              "      margin-bottom: 4px;\n",
              "    }\n",
              "\n",
              "    [theme=dark] .colab-df-convert {\n",
              "      background-color: #3B4455;\n",
              "      fill: #D2E3FC;\n",
              "    }\n",
              "\n",
              "    [theme=dark] .colab-df-convert:hover {\n",
              "      background-color: #434B5C;\n",
              "      box-shadow: 0px 1px 3px 1px rgba(0, 0, 0, 0.15);\n",
              "      filter: drop-shadow(0px 1px 2px rgba(0, 0, 0, 0.3));\n",
              "      fill: #FFFFFF;\n",
              "    }\n",
              "  </style>\n",
              "\n",
              "    <script>\n",
              "      const buttonEl =\n",
              "        document.querySelector('#df-ed637a87-d959-4361-ae87-42cd114cda7a button.colab-df-convert');\n",
              "      buttonEl.style.display =\n",
              "        google.colab.kernel.accessAllowed ? 'block' : 'none';\n",
              "\n",
              "      async function convertToInteractive(key) {\n",
              "        const element = document.querySelector('#df-ed637a87-d959-4361-ae87-42cd114cda7a');\n",
              "        const dataTable =\n",
              "          await google.colab.kernel.invokeFunction('convertToInteractive',\n",
              "                                                    [key], {});\n",
              "        if (!dataTable) return;\n",
              "\n",
              "        const docLinkHtml = 'Like what you see? Visit the ' +\n",
              "          '<a target=\"_blank\" href=https://colab.research.google.com/notebooks/data_table.ipynb>data table notebook</a>'\n",
              "          + ' to learn more about interactive tables.';\n",
              "        element.innerHTML = '';\n",
              "        dataTable['output_type'] = 'display_data';\n",
              "        await google.colab.output.renderOutput(dataTable, element);\n",
              "        const docLink = document.createElement('div');\n",
              "        docLink.innerHTML = docLinkHtml;\n",
              "        element.appendChild(docLink);\n",
              "      }\n",
              "    </script>\n",
              "  </div>\n",
              "\n",
              "\n",
              "<div id=\"df-c95c863a-211f-4ab1-927a-9c986b1ee598\">\n",
              "  <button class=\"colab-df-quickchart\" onclick=\"quickchart('df-c95c863a-211f-4ab1-927a-9c986b1ee598')\"\n",
              "            title=\"Suggest charts.\"\n",
              "            style=\"display:none;\">\n",
              "\n",
              "<svg xmlns=\"http://www.w3.org/2000/svg\" height=\"24px\"viewBox=\"0 0 24 24\"\n",
              "     width=\"24px\">\n",
              "    <g>\n",
              "        <path d=\"M19 3H5c-1.1 0-2 .9-2 2v14c0 1.1.9 2 2 2h14c1.1 0 2-.9 2-2V5c0-1.1-.9-2-2-2zM9 17H7v-7h2v7zm4 0h-2V7h2v10zm4 0h-2v-4h2v4z\"/>\n",
              "    </g>\n",
              "</svg>\n",
              "  </button>\n",
              "\n",
              "<style>\n",
              "  .colab-df-quickchart {\n",
              "      --bg-color: #E8F0FE;\n",
              "      --fill-color: #1967D2;\n",
              "      --hover-bg-color: #E2EBFA;\n",
              "      --hover-fill-color: #174EA6;\n",
              "      --disabled-fill-color: #AAA;\n",
              "      --disabled-bg-color: #DDD;\n",
              "  }\n",
              "\n",
              "  [theme=dark] .colab-df-quickchart {\n",
              "      --bg-color: #3B4455;\n",
              "      --fill-color: #D2E3FC;\n",
              "      --hover-bg-color: #434B5C;\n",
              "      --hover-fill-color: #FFFFFF;\n",
              "      --disabled-bg-color: #3B4455;\n",
              "      --disabled-fill-color: #666;\n",
              "  }\n",
              "\n",
              "  .colab-df-quickchart {\n",
              "    background-color: var(--bg-color);\n",
              "    border: none;\n",
              "    border-radius: 50%;\n",
              "    cursor: pointer;\n",
              "    display: none;\n",
              "    fill: var(--fill-color);\n",
              "    height: 32px;\n",
              "    padding: 0;\n",
              "    width: 32px;\n",
              "  }\n",
              "\n",
              "  .colab-df-quickchart:hover {\n",
              "    background-color: var(--hover-bg-color);\n",
              "    box-shadow: 0 1px 2px rgba(60, 64, 67, 0.3), 0 1px 3px 1px rgba(60, 64, 67, 0.15);\n",
              "    fill: var(--button-hover-fill-color);\n",
              "  }\n",
              "\n",
              "  .colab-df-quickchart-complete:disabled,\n",
              "  .colab-df-quickchart-complete:disabled:hover {\n",
              "    background-color: var(--disabled-bg-color);\n",
              "    fill: var(--disabled-fill-color);\n",
              "    box-shadow: none;\n",
              "  }\n",
              "\n",
              "  .colab-df-spinner {\n",
              "    border: 2px solid var(--fill-color);\n",
              "    border-color: transparent;\n",
              "    border-bottom-color: var(--fill-color);\n",
              "    animation:\n",
              "      spin 1s steps(1) infinite;\n",
              "  }\n",
              "\n",
              "  @keyframes spin {\n",
              "    0% {\n",
              "      border-color: transparent;\n",
              "      border-bottom-color: var(--fill-color);\n",
              "      border-left-color: var(--fill-color);\n",
              "    }\n",
              "    20% {\n",
              "      border-color: transparent;\n",
              "      border-left-color: var(--fill-color);\n",
              "      border-top-color: var(--fill-color);\n",
              "    }\n",
              "    30% {\n",
              "      border-color: transparent;\n",
              "      border-left-color: var(--fill-color);\n",
              "      border-top-color: var(--fill-color);\n",
              "      border-right-color: var(--fill-color);\n",
              "    }\n",
              "    40% {\n",
              "      border-color: transparent;\n",
              "      border-right-color: var(--fill-color);\n",
              "      border-top-color: var(--fill-color);\n",
              "    }\n",
              "    60% {\n",
              "      border-color: transparent;\n",
              "      border-right-color: var(--fill-color);\n",
              "    }\n",
              "    80% {\n",
              "      border-color: transparent;\n",
              "      border-right-color: var(--fill-color);\n",
              "      border-bottom-color: var(--fill-color);\n",
              "    }\n",
              "    90% {\n",
              "      border-color: transparent;\n",
              "      border-bottom-color: var(--fill-color);\n",
              "    }\n",
              "  }\n",
              "</style>\n",
              "\n",
              "  <script>\n",
              "    async function quickchart(key) {\n",
              "      const quickchartButtonEl =\n",
              "        document.querySelector('#' + key + ' button');\n",
              "      quickchartButtonEl.disabled = true;  // To prevent multiple clicks.\n",
              "      quickchartButtonEl.classList.add('colab-df-spinner');\n",
              "      try {\n",
              "        const charts = await google.colab.kernel.invokeFunction(\n",
              "            'suggestCharts', [key], {});\n",
              "      } catch (error) {\n",
              "        console.error('Error during call to suggestCharts:', error);\n",
              "      }\n",
              "      quickchartButtonEl.classList.remove('colab-df-spinner');\n",
              "      quickchartButtonEl.classList.add('colab-df-quickchart-complete');\n",
              "    }\n",
              "    (() => {\n",
              "      let quickchartButtonEl =\n",
              "        document.querySelector('#df-c95c863a-211f-4ab1-927a-9c986b1ee598 button');\n",
              "      quickchartButtonEl.style.display =\n",
              "        google.colab.kernel.accessAllowed ? 'block' : 'none';\n",
              "    })();\n",
              "  </script>\n",
              "</div>\n",
              "    </div>\n",
              "  </div>\n"
            ]
          },
          "metadata": {},
          "execution_count": 78
        }
      ]
    },
    {
      "cell_type": "code",
      "source": [
        "# membuat dataframe dari dictionary\n",
        "import pandas as pd\n",
        "\n",
        "name = {'firstname':['putri','della','irma'],'lastname':['yanti','febriana','ginting']}\n",
        "\n",
        "df = pd.DataFrame(name)\n",
        "df"
      ],
      "metadata": {
        "colab": {
          "base_uri": "https://localhost:8080/",
          "height": 143
        },
        "id": "4EkM6Leio7dc",
        "outputId": "e50b39fe-75b0-4b62-b95c-17b2ac8e32e1"
      },
      "execution_count": 79,
      "outputs": [
        {
          "output_type": "execute_result",
          "data": {
            "text/plain": [
              "  firstname  lastname\n",
              "0     putri     yanti\n",
              "1     della  febriana\n",
              "2      irma   ginting"
            ],
            "text/html": [
              "\n",
              "  <div id=\"df-6e4d7190-550f-4a5a-8548-b2b6a348adc7\" class=\"colab-df-container\">\n",
              "    <div>\n",
              "<style scoped>\n",
              "    .dataframe tbody tr th:only-of-type {\n",
              "        vertical-align: middle;\n",
              "    }\n",
              "\n",
              "    .dataframe tbody tr th {\n",
              "        vertical-align: top;\n",
              "    }\n",
              "\n",
              "    .dataframe thead th {\n",
              "        text-align: right;\n",
              "    }\n",
              "</style>\n",
              "<table border=\"1\" class=\"dataframe\">\n",
              "  <thead>\n",
              "    <tr style=\"text-align: right;\">\n",
              "      <th></th>\n",
              "      <th>firstname</th>\n",
              "      <th>lastname</th>\n",
              "    </tr>\n",
              "  </thead>\n",
              "  <tbody>\n",
              "    <tr>\n",
              "      <th>0</th>\n",
              "      <td>putri</td>\n",
              "      <td>yanti</td>\n",
              "    </tr>\n",
              "    <tr>\n",
              "      <th>1</th>\n",
              "      <td>della</td>\n",
              "      <td>febriana</td>\n",
              "    </tr>\n",
              "    <tr>\n",
              "      <th>2</th>\n",
              "      <td>irma</td>\n",
              "      <td>ginting</td>\n",
              "    </tr>\n",
              "  </tbody>\n",
              "</table>\n",
              "</div>\n",
              "    <div class=\"colab-df-buttons\">\n",
              "\n",
              "  <div class=\"colab-df-container\">\n",
              "    <button class=\"colab-df-convert\" onclick=\"convertToInteractive('df-6e4d7190-550f-4a5a-8548-b2b6a348adc7')\"\n",
              "            title=\"Convert this dataframe to an interactive table.\"\n",
              "            style=\"display:none;\">\n",
              "\n",
              "  <svg xmlns=\"http://www.w3.org/2000/svg\" height=\"24px\" viewBox=\"0 -960 960 960\">\n",
              "    <path d=\"M120-120v-720h720v720H120Zm60-500h600v-160H180v160Zm220 220h160v-160H400v160Zm0 220h160v-160H400v160ZM180-400h160v-160H180v160Zm440 0h160v-160H620v160ZM180-180h160v-160H180v160Zm440 0h160v-160H620v160Z\"/>\n",
              "  </svg>\n",
              "    </button>\n",
              "\n",
              "  <style>\n",
              "    .colab-df-container {\n",
              "      display:flex;\n",
              "      gap: 12px;\n",
              "    }\n",
              "\n",
              "    .colab-df-convert {\n",
              "      background-color: #E8F0FE;\n",
              "      border: none;\n",
              "      border-radius: 50%;\n",
              "      cursor: pointer;\n",
              "      display: none;\n",
              "      fill: #1967D2;\n",
              "      height: 32px;\n",
              "      padding: 0 0 0 0;\n",
              "      width: 32px;\n",
              "    }\n",
              "\n",
              "    .colab-df-convert:hover {\n",
              "      background-color: #E2EBFA;\n",
              "      box-shadow: 0px 1px 2px rgba(60, 64, 67, 0.3), 0px 1px 3px 1px rgba(60, 64, 67, 0.15);\n",
              "      fill: #174EA6;\n",
              "    }\n",
              "\n",
              "    .colab-df-buttons div {\n",
              "      margin-bottom: 4px;\n",
              "    }\n",
              "\n",
              "    [theme=dark] .colab-df-convert {\n",
              "      background-color: #3B4455;\n",
              "      fill: #D2E3FC;\n",
              "    }\n",
              "\n",
              "    [theme=dark] .colab-df-convert:hover {\n",
              "      background-color: #434B5C;\n",
              "      box-shadow: 0px 1px 3px 1px rgba(0, 0, 0, 0.15);\n",
              "      filter: drop-shadow(0px 1px 2px rgba(0, 0, 0, 0.3));\n",
              "      fill: #FFFFFF;\n",
              "    }\n",
              "  </style>\n",
              "\n",
              "    <script>\n",
              "      const buttonEl =\n",
              "        document.querySelector('#df-6e4d7190-550f-4a5a-8548-b2b6a348adc7 button.colab-df-convert');\n",
              "      buttonEl.style.display =\n",
              "        google.colab.kernel.accessAllowed ? 'block' : 'none';\n",
              "\n",
              "      async function convertToInteractive(key) {\n",
              "        const element = document.querySelector('#df-6e4d7190-550f-4a5a-8548-b2b6a348adc7');\n",
              "        const dataTable =\n",
              "          await google.colab.kernel.invokeFunction('convertToInteractive',\n",
              "                                                    [key], {});\n",
              "        if (!dataTable) return;\n",
              "\n",
              "        const docLinkHtml = 'Like what you see? Visit the ' +\n",
              "          '<a target=\"_blank\" href=https://colab.research.google.com/notebooks/data_table.ipynb>data table notebook</a>'\n",
              "          + ' to learn more about interactive tables.';\n",
              "        element.innerHTML = '';\n",
              "        dataTable['output_type'] = 'display_data';\n",
              "        await google.colab.output.renderOutput(dataTable, element);\n",
              "        const docLink = document.createElement('div');\n",
              "        docLink.innerHTML = docLinkHtml;\n",
              "        element.appendChild(docLink);\n",
              "      }\n",
              "    </script>\n",
              "  </div>\n",
              "\n",
              "\n",
              "<div id=\"df-54882063-e51d-4633-9582-4b1621f9f684\">\n",
              "  <button class=\"colab-df-quickchart\" onclick=\"quickchart('df-54882063-e51d-4633-9582-4b1621f9f684')\"\n",
              "            title=\"Suggest charts.\"\n",
              "            style=\"display:none;\">\n",
              "\n",
              "<svg xmlns=\"http://www.w3.org/2000/svg\" height=\"24px\"viewBox=\"0 0 24 24\"\n",
              "     width=\"24px\">\n",
              "    <g>\n",
              "        <path d=\"M19 3H5c-1.1 0-2 .9-2 2v14c0 1.1.9 2 2 2h14c1.1 0 2-.9 2-2V5c0-1.1-.9-2-2-2zM9 17H7v-7h2v7zm4 0h-2V7h2v10zm4 0h-2v-4h2v4z\"/>\n",
              "    </g>\n",
              "</svg>\n",
              "  </button>\n",
              "\n",
              "<style>\n",
              "  .colab-df-quickchart {\n",
              "      --bg-color: #E8F0FE;\n",
              "      --fill-color: #1967D2;\n",
              "      --hover-bg-color: #E2EBFA;\n",
              "      --hover-fill-color: #174EA6;\n",
              "      --disabled-fill-color: #AAA;\n",
              "      --disabled-bg-color: #DDD;\n",
              "  }\n",
              "\n",
              "  [theme=dark] .colab-df-quickchart {\n",
              "      --bg-color: #3B4455;\n",
              "      --fill-color: #D2E3FC;\n",
              "      --hover-bg-color: #434B5C;\n",
              "      --hover-fill-color: #FFFFFF;\n",
              "      --disabled-bg-color: #3B4455;\n",
              "      --disabled-fill-color: #666;\n",
              "  }\n",
              "\n",
              "  .colab-df-quickchart {\n",
              "    background-color: var(--bg-color);\n",
              "    border: none;\n",
              "    border-radius: 50%;\n",
              "    cursor: pointer;\n",
              "    display: none;\n",
              "    fill: var(--fill-color);\n",
              "    height: 32px;\n",
              "    padding: 0;\n",
              "    width: 32px;\n",
              "  }\n",
              "\n",
              "  .colab-df-quickchart:hover {\n",
              "    background-color: var(--hover-bg-color);\n",
              "    box-shadow: 0 1px 2px rgba(60, 64, 67, 0.3), 0 1px 3px 1px rgba(60, 64, 67, 0.15);\n",
              "    fill: var(--button-hover-fill-color);\n",
              "  }\n",
              "\n",
              "  .colab-df-quickchart-complete:disabled,\n",
              "  .colab-df-quickchart-complete:disabled:hover {\n",
              "    background-color: var(--disabled-bg-color);\n",
              "    fill: var(--disabled-fill-color);\n",
              "    box-shadow: none;\n",
              "  }\n",
              "\n",
              "  .colab-df-spinner {\n",
              "    border: 2px solid var(--fill-color);\n",
              "    border-color: transparent;\n",
              "    border-bottom-color: var(--fill-color);\n",
              "    animation:\n",
              "      spin 1s steps(1) infinite;\n",
              "  }\n",
              "\n",
              "  @keyframes spin {\n",
              "    0% {\n",
              "      border-color: transparent;\n",
              "      border-bottom-color: var(--fill-color);\n",
              "      border-left-color: var(--fill-color);\n",
              "    }\n",
              "    20% {\n",
              "      border-color: transparent;\n",
              "      border-left-color: var(--fill-color);\n",
              "      border-top-color: var(--fill-color);\n",
              "    }\n",
              "    30% {\n",
              "      border-color: transparent;\n",
              "      border-left-color: var(--fill-color);\n",
              "      border-top-color: var(--fill-color);\n",
              "      border-right-color: var(--fill-color);\n",
              "    }\n",
              "    40% {\n",
              "      border-color: transparent;\n",
              "      border-right-color: var(--fill-color);\n",
              "      border-top-color: var(--fill-color);\n",
              "    }\n",
              "    60% {\n",
              "      border-color: transparent;\n",
              "      border-right-color: var(--fill-color);\n",
              "    }\n",
              "    80% {\n",
              "      border-color: transparent;\n",
              "      border-right-color: var(--fill-color);\n",
              "      border-bottom-color: var(--fill-color);\n",
              "    }\n",
              "    90% {\n",
              "      border-color: transparent;\n",
              "      border-bottom-color: var(--fill-color);\n",
              "    }\n",
              "  }\n",
              "</style>\n",
              "\n",
              "  <script>\n",
              "    async function quickchart(key) {\n",
              "      const quickchartButtonEl =\n",
              "        document.querySelector('#' + key + ' button');\n",
              "      quickchartButtonEl.disabled = true;  // To prevent multiple clicks.\n",
              "      quickchartButtonEl.classList.add('colab-df-spinner');\n",
              "      try {\n",
              "        const charts = await google.colab.kernel.invokeFunction(\n",
              "            'suggestCharts', [key], {});\n",
              "      } catch (error) {\n",
              "        console.error('Error during call to suggestCharts:', error);\n",
              "      }\n",
              "      quickchartButtonEl.classList.remove('colab-df-spinner');\n",
              "      quickchartButtonEl.classList.add('colab-df-quickchart-complete');\n",
              "    }\n",
              "    (() => {\n",
              "      let quickchartButtonEl =\n",
              "        document.querySelector('#df-54882063-e51d-4633-9582-4b1621f9f684 button');\n",
              "      quickchartButtonEl.style.display =\n",
              "        google.colab.kernel.accessAllowed ? 'block' : 'none';\n",
              "    })();\n",
              "  </script>\n",
              "</div>\n",
              "    </div>\n",
              "  </div>\n"
            ]
          },
          "metadata": {},
          "execution_count": 79
        }
      ]
    },
    {
      "cell_type": "code",
      "source": [
        "# membuat dataframe dari numpy array\n",
        "\n",
        "import pandas as pd\n",
        "import numpy as np\n",
        "\n",
        "name = np.array([['putri','yanti'],['della','febriana'],['irma','ginting']])\n",
        "\n",
        "df = pd.DataFrame(name, columns=['firstname','lastname'])\n",
        "df"
      ],
      "metadata": {
        "colab": {
          "base_uri": "https://localhost:8080/",
          "height": 143
        },
        "id": "Vr8_YGSWp4rG",
        "outputId": "952685cf-7377-496e-a8f3-364f4e453d6b"
      },
      "execution_count": 81,
      "outputs": [
        {
          "output_type": "execute_result",
          "data": {
            "text/plain": [
              "  firstname  lastname\n",
              "0     putri     yanti\n",
              "1     della  febriana\n",
              "2      irma   ginting"
            ],
            "text/html": [
              "\n",
              "  <div id=\"df-7748d10c-f1a6-4fc3-a7b0-c9677ed8cf07\" class=\"colab-df-container\">\n",
              "    <div>\n",
              "<style scoped>\n",
              "    .dataframe tbody tr th:only-of-type {\n",
              "        vertical-align: middle;\n",
              "    }\n",
              "\n",
              "    .dataframe tbody tr th {\n",
              "        vertical-align: top;\n",
              "    }\n",
              "\n",
              "    .dataframe thead th {\n",
              "        text-align: right;\n",
              "    }\n",
              "</style>\n",
              "<table border=\"1\" class=\"dataframe\">\n",
              "  <thead>\n",
              "    <tr style=\"text-align: right;\">\n",
              "      <th></th>\n",
              "      <th>firstname</th>\n",
              "      <th>lastname</th>\n",
              "    </tr>\n",
              "  </thead>\n",
              "  <tbody>\n",
              "    <tr>\n",
              "      <th>0</th>\n",
              "      <td>putri</td>\n",
              "      <td>yanti</td>\n",
              "    </tr>\n",
              "    <tr>\n",
              "      <th>1</th>\n",
              "      <td>della</td>\n",
              "      <td>febriana</td>\n",
              "    </tr>\n",
              "    <tr>\n",
              "      <th>2</th>\n",
              "      <td>irma</td>\n",
              "      <td>ginting</td>\n",
              "    </tr>\n",
              "  </tbody>\n",
              "</table>\n",
              "</div>\n",
              "    <div class=\"colab-df-buttons\">\n",
              "\n",
              "  <div class=\"colab-df-container\">\n",
              "    <button class=\"colab-df-convert\" onclick=\"convertToInteractive('df-7748d10c-f1a6-4fc3-a7b0-c9677ed8cf07')\"\n",
              "            title=\"Convert this dataframe to an interactive table.\"\n",
              "            style=\"display:none;\">\n",
              "\n",
              "  <svg xmlns=\"http://www.w3.org/2000/svg\" height=\"24px\" viewBox=\"0 -960 960 960\">\n",
              "    <path d=\"M120-120v-720h720v720H120Zm60-500h600v-160H180v160Zm220 220h160v-160H400v160Zm0 220h160v-160H400v160ZM180-400h160v-160H180v160Zm440 0h160v-160H620v160ZM180-180h160v-160H180v160Zm440 0h160v-160H620v160Z\"/>\n",
              "  </svg>\n",
              "    </button>\n",
              "\n",
              "  <style>\n",
              "    .colab-df-container {\n",
              "      display:flex;\n",
              "      gap: 12px;\n",
              "    }\n",
              "\n",
              "    .colab-df-convert {\n",
              "      background-color: #E8F0FE;\n",
              "      border: none;\n",
              "      border-radius: 50%;\n",
              "      cursor: pointer;\n",
              "      display: none;\n",
              "      fill: #1967D2;\n",
              "      height: 32px;\n",
              "      padding: 0 0 0 0;\n",
              "      width: 32px;\n",
              "    }\n",
              "\n",
              "    .colab-df-convert:hover {\n",
              "      background-color: #E2EBFA;\n",
              "      box-shadow: 0px 1px 2px rgba(60, 64, 67, 0.3), 0px 1px 3px 1px rgba(60, 64, 67, 0.15);\n",
              "      fill: #174EA6;\n",
              "    }\n",
              "\n",
              "    .colab-df-buttons div {\n",
              "      margin-bottom: 4px;\n",
              "    }\n",
              "\n",
              "    [theme=dark] .colab-df-convert {\n",
              "      background-color: #3B4455;\n",
              "      fill: #D2E3FC;\n",
              "    }\n",
              "\n",
              "    [theme=dark] .colab-df-convert:hover {\n",
              "      background-color: #434B5C;\n",
              "      box-shadow: 0px 1px 3px 1px rgba(0, 0, 0, 0.15);\n",
              "      filter: drop-shadow(0px 1px 2px rgba(0, 0, 0, 0.3));\n",
              "      fill: #FFFFFF;\n",
              "    }\n",
              "  </style>\n",
              "\n",
              "    <script>\n",
              "      const buttonEl =\n",
              "        document.querySelector('#df-7748d10c-f1a6-4fc3-a7b0-c9677ed8cf07 button.colab-df-convert');\n",
              "      buttonEl.style.display =\n",
              "        google.colab.kernel.accessAllowed ? 'block' : 'none';\n",
              "\n",
              "      async function convertToInteractive(key) {\n",
              "        const element = document.querySelector('#df-7748d10c-f1a6-4fc3-a7b0-c9677ed8cf07');\n",
              "        const dataTable =\n",
              "          await google.colab.kernel.invokeFunction('convertToInteractive',\n",
              "                                                    [key], {});\n",
              "        if (!dataTable) return;\n",
              "\n",
              "        const docLinkHtml = 'Like what you see? Visit the ' +\n",
              "          '<a target=\"_blank\" href=https://colab.research.google.com/notebooks/data_table.ipynb>data table notebook</a>'\n",
              "          + ' to learn more about interactive tables.';\n",
              "        element.innerHTML = '';\n",
              "        dataTable['output_type'] = 'display_data';\n",
              "        await google.colab.output.renderOutput(dataTable, element);\n",
              "        const docLink = document.createElement('div');\n",
              "        docLink.innerHTML = docLinkHtml;\n",
              "        element.appendChild(docLink);\n",
              "      }\n",
              "    </script>\n",
              "  </div>\n",
              "\n",
              "\n",
              "<div id=\"df-86e3c73e-a04a-41fd-8c9e-2e9ea2453c0f\">\n",
              "  <button class=\"colab-df-quickchart\" onclick=\"quickchart('df-86e3c73e-a04a-41fd-8c9e-2e9ea2453c0f')\"\n",
              "            title=\"Suggest charts.\"\n",
              "            style=\"display:none;\">\n",
              "\n",
              "<svg xmlns=\"http://www.w3.org/2000/svg\" height=\"24px\"viewBox=\"0 0 24 24\"\n",
              "     width=\"24px\">\n",
              "    <g>\n",
              "        <path d=\"M19 3H5c-1.1 0-2 .9-2 2v14c0 1.1.9 2 2 2h14c1.1 0 2-.9 2-2V5c0-1.1-.9-2-2-2zM9 17H7v-7h2v7zm4 0h-2V7h2v10zm4 0h-2v-4h2v4z\"/>\n",
              "    </g>\n",
              "</svg>\n",
              "  </button>\n",
              "\n",
              "<style>\n",
              "  .colab-df-quickchart {\n",
              "      --bg-color: #E8F0FE;\n",
              "      --fill-color: #1967D2;\n",
              "      --hover-bg-color: #E2EBFA;\n",
              "      --hover-fill-color: #174EA6;\n",
              "      --disabled-fill-color: #AAA;\n",
              "      --disabled-bg-color: #DDD;\n",
              "  }\n",
              "\n",
              "  [theme=dark] .colab-df-quickchart {\n",
              "      --bg-color: #3B4455;\n",
              "      --fill-color: #D2E3FC;\n",
              "      --hover-bg-color: #434B5C;\n",
              "      --hover-fill-color: #FFFFFF;\n",
              "      --disabled-bg-color: #3B4455;\n",
              "      --disabled-fill-color: #666;\n",
              "  }\n",
              "\n",
              "  .colab-df-quickchart {\n",
              "    background-color: var(--bg-color);\n",
              "    border: none;\n",
              "    border-radius: 50%;\n",
              "    cursor: pointer;\n",
              "    display: none;\n",
              "    fill: var(--fill-color);\n",
              "    height: 32px;\n",
              "    padding: 0;\n",
              "    width: 32px;\n",
              "  }\n",
              "\n",
              "  .colab-df-quickchart:hover {\n",
              "    background-color: var(--hover-bg-color);\n",
              "    box-shadow: 0 1px 2px rgba(60, 64, 67, 0.3), 0 1px 3px 1px rgba(60, 64, 67, 0.15);\n",
              "    fill: var(--button-hover-fill-color);\n",
              "  }\n",
              "\n",
              "  .colab-df-quickchart-complete:disabled,\n",
              "  .colab-df-quickchart-complete:disabled:hover {\n",
              "    background-color: var(--disabled-bg-color);\n",
              "    fill: var(--disabled-fill-color);\n",
              "    box-shadow: none;\n",
              "  }\n",
              "\n",
              "  .colab-df-spinner {\n",
              "    border: 2px solid var(--fill-color);\n",
              "    border-color: transparent;\n",
              "    border-bottom-color: var(--fill-color);\n",
              "    animation:\n",
              "      spin 1s steps(1) infinite;\n",
              "  }\n",
              "\n",
              "  @keyframes spin {\n",
              "    0% {\n",
              "      border-color: transparent;\n",
              "      border-bottom-color: var(--fill-color);\n",
              "      border-left-color: var(--fill-color);\n",
              "    }\n",
              "    20% {\n",
              "      border-color: transparent;\n",
              "      border-left-color: var(--fill-color);\n",
              "      border-top-color: var(--fill-color);\n",
              "    }\n",
              "    30% {\n",
              "      border-color: transparent;\n",
              "      border-left-color: var(--fill-color);\n",
              "      border-top-color: var(--fill-color);\n",
              "      border-right-color: var(--fill-color);\n",
              "    }\n",
              "    40% {\n",
              "      border-color: transparent;\n",
              "      border-right-color: var(--fill-color);\n",
              "      border-top-color: var(--fill-color);\n",
              "    }\n",
              "    60% {\n",
              "      border-color: transparent;\n",
              "      border-right-color: var(--fill-color);\n",
              "    }\n",
              "    80% {\n",
              "      border-color: transparent;\n",
              "      border-right-color: var(--fill-color);\n",
              "      border-bottom-color: var(--fill-color);\n",
              "    }\n",
              "    90% {\n",
              "      border-color: transparent;\n",
              "      border-bottom-color: var(--fill-color);\n",
              "    }\n",
              "  }\n",
              "</style>\n",
              "\n",
              "  <script>\n",
              "    async function quickchart(key) {\n",
              "      const quickchartButtonEl =\n",
              "        document.querySelector('#' + key + ' button');\n",
              "      quickchartButtonEl.disabled = true;  // To prevent multiple clicks.\n",
              "      quickchartButtonEl.classList.add('colab-df-spinner');\n",
              "      try {\n",
              "        const charts = await google.colab.kernel.invokeFunction(\n",
              "            'suggestCharts', [key], {});\n",
              "      } catch (error) {\n",
              "        console.error('Error during call to suggestCharts:', error);\n",
              "      }\n",
              "      quickchartButtonEl.classList.remove('colab-df-spinner');\n",
              "      quickchartButtonEl.classList.add('colab-df-quickchart-complete');\n",
              "    }\n",
              "    (() => {\n",
              "      let quickchartButtonEl =\n",
              "        document.querySelector('#df-86e3c73e-a04a-41fd-8c9e-2e9ea2453c0f button');\n",
              "      quickchartButtonEl.style.display =\n",
              "        google.colab.kernel.accessAllowed ? 'block' : 'none';\n",
              "    })();\n",
              "  </script>\n",
              "</div>\n",
              "    </div>\n",
              "  </div>\n"
            ]
          },
          "metadata": {},
          "execution_count": 81
        }
      ]
    },
    {
      "cell_type": "code",
      "source": [],
      "metadata": {
        "id": "g9VOpdiAqQsY"
      },
      "execution_count": null,
      "outputs": []
    }
  ]
}